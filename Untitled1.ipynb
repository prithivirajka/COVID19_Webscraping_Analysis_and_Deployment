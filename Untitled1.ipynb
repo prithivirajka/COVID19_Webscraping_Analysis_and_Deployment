{
 "cells": [
  {
   "cell_type": "code",
   "execution_count": 1,
   "metadata": {},
   "outputs": [],
   "source": [
    "import pandas as pd\n",
    "import numpy as np\n",
    "import requests\n",
    "from bs4 import BeautifulSoup "
   ]
  },
  {
   "cell_type": "code",
   "execution_count": 2,
   "metadata": {
    "scrolled": false
   },
   "outputs": [],
   "source": [
    "response = requests.get(\"https://www.worldometers.info/coronavirus/#countries\").text\n",
    "soup = BeautifulSoup(response, \"lxml\")\n",
    "table_container = soup.find(id=\"main_table_countries_today\")\n",
    "table_content  = table_container.tbody.find_all(\"tr\")\n",
    "\n",
    "dicts = []\n",
    "for i in range(len(table_content)):\n",
    "    value = [j.string for j in table_content[i].find_all('td')]\n",
    "    dicts.append(value)\n",
    "\n",
    "live_data= pd.DataFrame(dicts).drop(0).T.iloc[:,7:]"
   ]
  },
  {
   "cell_type": "code",
   "execution_count": 4,
   "metadata": {},
   "outputs": [
    {
     "data": {
      "text/plain": [
       "pandas.core.frame.DataFrame"
      ]
     },
     "execution_count": 4,
     "metadata": {},
     "output_type": "execute_result"
    }
   ],
   "source": [
    "type(live_data)"
   ]
  },
  {
   "cell_type": "code",
   "execution_count": 5,
   "metadata": {},
   "outputs": [
    {
     "data": {
      "text/plain": [
       "Int64Index([1, 2, 3, 4, 5, 6, 7, 8, 9], dtype='int64')"
      ]
     },
     "execution_count": 5,
     "metadata": {},
     "output_type": "execute_result"
    }
   ],
   "source": [
    "df = live_data.T\n",
    "df = df.iloc[1:,:10]\n",
    "df.drop([0], axis = 1)\n",
    "del df[0] \n",
    "df.columns"
   ]
  },
  {
   "cell_type": "code",
   "execution_count": 6,
   "metadata": {},
   "outputs": [
    {
     "data": {
      "text/html": [
       "<div>\n",
       "<style scoped>\n",
       "    .dataframe tbody tr th:only-of-type {\n",
       "        vertical-align: middle;\n",
       "    }\n",
       "\n",
       "    .dataframe tbody tr th {\n",
       "        vertical-align: top;\n",
       "    }\n",
       "\n",
       "    .dataframe thead th {\n",
       "        text-align: right;\n",
       "    }\n",
       "</style>\n",
       "<table border=\"1\" class=\"dataframe\">\n",
       "  <thead>\n",
       "    <tr style=\"text-align: right;\">\n",
       "      <th></th>\n",
       "      <th>1</th>\n",
       "      <th>2</th>\n",
       "      <th>3</th>\n",
       "      <th>4</th>\n",
       "      <th>5</th>\n",
       "      <th>6</th>\n",
       "      <th>7</th>\n",
       "      <th>8</th>\n",
       "      <th>9</th>\n",
       "    </tr>\n",
       "  </thead>\n",
       "  <tbody>\n",
       "    <tr>\n",
       "      <td>9</td>\n",
       "      <td>India</td>\n",
       "      <td>10,791,123</td>\n",
       "      <td>None</td>\n",
       "      <td>154,742</td>\n",
       "      <td>None</td>\n",
       "      <td>10,479,508</td>\n",
       "      <td>None</td>\n",
       "      <td>156,873</td>\n",
       "      <td>8,944</td>\n",
       "    </tr>\n",
       "    <tr>\n",
       "      <td>10</td>\n",
       "      <td>Brazil</td>\n",
       "      <td>9,339,921</td>\n",
       "      <td>None</td>\n",
       "      <td>227,592</td>\n",
       "      <td>None</td>\n",
       "      <td>8,236,864</td>\n",
       "      <td>None</td>\n",
       "      <td>875,465</td>\n",
       "      <td>8,318</td>\n",
       "    </tr>\n",
       "    <tr>\n",
       "      <td>11</td>\n",
       "      <td>Russia</td>\n",
       "      <td>3,901,204</td>\n",
       "      <td>None</td>\n",
       "      <td>74,684</td>\n",
       "      <td>None</td>\n",
       "      <td>3,365,367</td>\n",
       "      <td>None</td>\n",
       "      <td>461,153</td>\n",
       "      <td>2,300</td>\n",
       "    </tr>\n",
       "    <tr>\n",
       "      <td>12</td>\n",
       "      <td>UK</td>\n",
       "      <td>3,871,825</td>\n",
       "      <td>None</td>\n",
       "      <td>109,335</td>\n",
       "      <td>None</td>\n",
       "      <td>1,804,913</td>\n",
       "      <td>None</td>\n",
       "      <td>1,957,577</td>\n",
       "      <td>3,638</td>\n",
       "    </tr>\n",
       "    <tr>\n",
       "      <td>13</td>\n",
       "      <td>France</td>\n",
       "      <td>3,251,160</td>\n",
       "      <td>None</td>\n",
       "      <td>77,595</td>\n",
       "      <td>None</td>\n",
       "      <td>228,472</td>\n",
       "      <td>None</td>\n",
       "      <td>2,945,093</td>\n",
       "      <td>3,277</td>\n",
       "    </tr>\n",
       "    <tr>\n",
       "      <td>...</td>\n",
       "      <td>...</td>\n",
       "      <td>...</td>\n",
       "      <td>...</td>\n",
       "      <td>...</td>\n",
       "      <td>...</td>\n",
       "      <td>...</td>\n",
       "      <td>...</td>\n",
       "      <td>...</td>\n",
       "      <td>...</td>\n",
       "    </tr>\n",
       "    <tr>\n",
       "      <td>224</td>\n",
       "      <td>Marshall Islands</td>\n",
       "      <td>4</td>\n",
       "      <td>None</td>\n",
       "      <td></td>\n",
       "      <td>None</td>\n",
       "      <td>4</td>\n",
       "      <td>None</td>\n",
       "      <td>0</td>\n",
       "      <td>None</td>\n",
       "    </tr>\n",
       "    <tr>\n",
       "      <td>225</td>\n",
       "      <td>Samoa</td>\n",
       "      <td>2</td>\n",
       "      <td>None</td>\n",
       "      <td></td>\n",
       "      <td>None</td>\n",
       "      <td>2</td>\n",
       "      <td>None</td>\n",
       "      <td>0</td>\n",
       "      <td>None</td>\n",
       "    </tr>\n",
       "    <tr>\n",
       "      <td>226</td>\n",
       "      <td>Micronesia</td>\n",
       "      <td>1</td>\n",
       "      <td>None</td>\n",
       "      <td></td>\n",
       "      <td>None</td>\n",
       "      <td>1</td>\n",
       "      <td>None</td>\n",
       "      <td>0</td>\n",
       "      <td>None</td>\n",
       "    </tr>\n",
       "    <tr>\n",
       "      <td>227</td>\n",
       "      <td>Vanuatu</td>\n",
       "      <td>1</td>\n",
       "      <td>None</td>\n",
       "      <td></td>\n",
       "      <td>None</td>\n",
       "      <td>1</td>\n",
       "      <td>None</td>\n",
       "      <td>0</td>\n",
       "      <td>None</td>\n",
       "    </tr>\n",
       "    <tr>\n",
       "      <td>228</td>\n",
       "      <td>China</td>\n",
       "      <td>89,649</td>\n",
       "      <td>+30</td>\n",
       "      <td>4,636</td>\n",
       "      <td>None</td>\n",
       "      <td>83,602</td>\n",
       "      <td>+135</td>\n",
       "      <td>1,411</td>\n",
       "      <td>49</td>\n",
       "    </tr>\n",
       "  </tbody>\n",
       "</table>\n",
       "<p>220 rows × 9 columns</p>\n",
       "</div>"
      ],
      "text/plain": [
       "                    1           2     3         4     5           6     7  \\\n",
       "9               India  10,791,123  None  154,742   None  10,479,508  None   \n",
       "10             Brazil   9,339,921  None  227,592   None   8,236,864  None   \n",
       "11             Russia   3,901,204  None   74,684   None   3,365,367  None   \n",
       "12                 UK   3,871,825  None  109,335   None   1,804,913  None   \n",
       "13             France   3,251,160  None   77,595   None     228,472  None   \n",
       "..                ...         ...   ...       ...   ...         ...   ...   \n",
       "224  Marshall Islands           4  None            None           4  None   \n",
       "225             Samoa           2  None            None           2  None   \n",
       "226        Micronesia           1  None            None           1  None   \n",
       "227           Vanuatu           1  None            None           1  None   \n",
       "228             China      89,649   +30    4,636   None      83,602  +135   \n",
       "\n",
       "             8      9  \n",
       "9      156,873  8,944  \n",
       "10     875,465  8,318  \n",
       "11     461,153  2,300  \n",
       "12   1,957,577  3,638  \n",
       "13   2,945,093  3,277  \n",
       "..         ...    ...  \n",
       "224          0   None  \n",
       "225          0   None  \n",
       "226          0   None  \n",
       "227          0   None  \n",
       "228      1,411     49  \n",
       "\n",
       "[220 rows x 9 columns]"
      ]
     },
     "execution_count": 6,
     "metadata": {},
     "output_type": "execute_result"
    }
   ],
   "source": [
    "df"
   ]
  },
  {
   "cell_type": "code",
   "execution_count": 7,
   "metadata": {},
   "outputs": [],
   "source": [
    "df.columns = [\"Countries\",\"Total_Cases\",\"New_Cases\", \"Total_Deaths\", \"New_Deaths\", \"Total_Recovered\",\"Active\",\"Serious_Critical\",\"Tot_Cases/1M pop\"]"
   ]
  },
  {
   "cell_type": "code",
   "execution_count": 8,
   "metadata": {},
   "outputs": [],
   "source": [
    "df = df.set_index(\"Countries\") "
   ]
  },
  {
   "cell_type": "code",
   "execution_count": 9,
   "metadata": {},
   "outputs": [],
   "source": [
    "df = df.head(50)"
   ]
  },
  {
   "cell_type": "code",
   "execution_count": 10,
   "metadata": {},
   "outputs": [
    {
     "data": {
      "text/plain": [
       "Total_Cases          0\n",
       "New_Cases           48\n",
       "Total_Deaths         0\n",
       "New_Deaths          48\n",
       "Total_Recovered      0\n",
       "Active              45\n",
       "Serious_Critical     0\n",
       "Tot_Cases/1M pop     7\n",
       "dtype: int64"
      ]
     },
     "execution_count": 10,
     "metadata": {},
     "output_type": "execute_result"
    }
   ],
   "source": [
    "df.isnull().sum()"
   ]
  },
  {
   "cell_type": "code",
   "execution_count": 11,
   "metadata": {},
   "outputs": [
    {
     "data": {
      "text/html": [
       "<div>\n",
       "<style scoped>\n",
       "    .dataframe tbody tr th:only-of-type {\n",
       "        vertical-align: middle;\n",
       "    }\n",
       "\n",
       "    .dataframe tbody tr th {\n",
       "        vertical-align: top;\n",
       "    }\n",
       "\n",
       "    .dataframe thead th {\n",
       "        text-align: right;\n",
       "    }\n",
       "</style>\n",
       "<table border=\"1\" class=\"dataframe\">\n",
       "  <thead>\n",
       "    <tr style=\"text-align: right;\">\n",
       "      <th></th>\n",
       "      <th>Total_Cases</th>\n",
       "      <th>New_Cases</th>\n",
       "      <th>Total_Deaths</th>\n",
       "      <th>New_Deaths</th>\n",
       "      <th>Total_Recovered</th>\n",
       "      <th>Active</th>\n",
       "      <th>Serious_Critical</th>\n",
       "      <th>Tot_Cases/1M pop</th>\n",
       "    </tr>\n",
       "    <tr>\n",
       "      <th>Countries</th>\n",
       "      <th></th>\n",
       "      <th></th>\n",
       "      <th></th>\n",
       "      <th></th>\n",
       "      <th></th>\n",
       "      <th></th>\n",
       "      <th></th>\n",
       "      <th></th>\n",
       "    </tr>\n",
       "  </thead>\n",
       "  <tbody>\n",
       "    <tr>\n",
       "      <td>India</td>\n",
       "      <td>10,791,123</td>\n",
       "      <td>0</td>\n",
       "      <td>154,742</td>\n",
       "      <td>0</td>\n",
       "      <td>10,479,508</td>\n",
       "      <td>0</td>\n",
       "      <td>156,873</td>\n",
       "      <td>8,944</td>\n",
       "    </tr>\n",
       "    <tr>\n",
       "      <td>Brazil</td>\n",
       "      <td>9,339,921</td>\n",
       "      <td>0</td>\n",
       "      <td>227,592</td>\n",
       "      <td>0</td>\n",
       "      <td>8,236,864</td>\n",
       "      <td>0</td>\n",
       "      <td>875,465</td>\n",
       "      <td>8,318</td>\n",
       "    </tr>\n",
       "    <tr>\n",
       "      <td>Russia</td>\n",
       "      <td>3,901,204</td>\n",
       "      <td>0</td>\n",
       "      <td>74,684</td>\n",
       "      <td>0</td>\n",
       "      <td>3,365,367</td>\n",
       "      <td>0</td>\n",
       "      <td>461,153</td>\n",
       "      <td>2,300</td>\n",
       "    </tr>\n",
       "    <tr>\n",
       "      <td>UK</td>\n",
       "      <td>3,871,825</td>\n",
       "      <td>0</td>\n",
       "      <td>109,335</td>\n",
       "      <td>0</td>\n",
       "      <td>1,804,913</td>\n",
       "      <td>0</td>\n",
       "      <td>1,957,577</td>\n",
       "      <td>3,638</td>\n",
       "    </tr>\n",
       "    <tr>\n",
       "      <td>France</td>\n",
       "      <td>3,251,160</td>\n",
       "      <td>0</td>\n",
       "      <td>77,595</td>\n",
       "      <td>0</td>\n",
       "      <td>228,472</td>\n",
       "      <td>0</td>\n",
       "      <td>2,945,093</td>\n",
       "      <td>3,277</td>\n",
       "    </tr>\n",
       "  </tbody>\n",
       "</table>\n",
       "</div>"
      ],
      "text/plain": [
       "          Total_Cases New_Cases Total_Deaths New_Deaths Total_Recovered  \\\n",
       "Countries                                                                 \n",
       "India      10,791,123         0     154,742           0      10,479,508   \n",
       "Brazil      9,339,921         0     227,592           0       8,236,864   \n",
       "Russia      3,901,204         0      74,684           0       3,365,367   \n",
       "UK          3,871,825         0     109,335           0       1,804,913   \n",
       "France      3,251,160         0      77,595           0         228,472   \n",
       "\n",
       "          Active Serious_Critical Tot_Cases/1M pop  \n",
       "Countries                                           \n",
       "India          0          156,873            8,944  \n",
       "Brazil         0          875,465            8,318  \n",
       "Russia         0          461,153            2,300  \n",
       "UK             0        1,957,577            3,638  \n",
       "France         0        2,945,093            3,277  "
      ]
     },
     "execution_count": 11,
     "metadata": {},
     "output_type": "execute_result"
    }
   ],
   "source": [
    "df = df.replace(np.nan, 0)\n",
    "df.head()"
   ]
  },
  {
   "cell_type": "code",
   "execution_count": 12,
   "metadata": {},
   "outputs": [],
   "source": [
    "df.to_csv(\"cleaned_dataset_for_heatmap.csv\")"
   ]
  },
  {
   "cell_type": "code",
   "execution_count": 13,
   "metadata": {},
   "outputs": [
    {
     "data": {
      "text/html": [
       "<div>\n",
       "<style scoped>\n",
       "    .dataframe tbody tr th:only-of-type {\n",
       "        vertical-align: middle;\n",
       "    }\n",
       "\n",
       "    .dataframe tbody tr th {\n",
       "        vertical-align: top;\n",
       "    }\n",
       "\n",
       "    .dataframe thead th {\n",
       "        text-align: right;\n",
       "    }\n",
       "</style>\n",
       "<table border=\"1\" class=\"dataframe\">\n",
       "  <thead>\n",
       "    <tr style=\"text-align: right;\">\n",
       "      <th></th>\n",
       "      <th>Countries</th>\n",
       "      <th>Total_Cases</th>\n",
       "    </tr>\n",
       "  </thead>\n",
       "  <tbody>\n",
       "    <tr>\n",
       "      <td>0</td>\n",
       "      <td>India</td>\n",
       "      <td>10,791,123</td>\n",
       "    </tr>\n",
       "    <tr>\n",
       "      <td>1</td>\n",
       "      <td>Brazil</td>\n",
       "      <td>9,339,921</td>\n",
       "    </tr>\n",
       "    <tr>\n",
       "      <td>2</td>\n",
       "      <td>Russia</td>\n",
       "      <td>3,901,204</td>\n",
       "    </tr>\n",
       "    <tr>\n",
       "      <td>3</td>\n",
       "      <td>UK</td>\n",
       "      <td>3,871,825</td>\n",
       "    </tr>\n",
       "    <tr>\n",
       "      <td>4</td>\n",
       "      <td>France</td>\n",
       "      <td>3,251,160</td>\n",
       "    </tr>\n",
       "  </tbody>\n",
       "</table>\n",
       "</div>"
      ],
      "text/plain": [
       "  Countries Total_Cases\n",
       "0     India  10,791,123\n",
       "1    Brazil   9,339,921\n",
       "2    Russia   3,901,204\n",
       "3        UK   3,871,825\n",
       "4    France   3,251,160"
      ]
     },
     "execution_count": 13,
     "metadata": {},
     "output_type": "execute_result"
    }
   ],
   "source": [
    "df = pd.read_csv('cleaned_dataset_for_heatmap.csv', usecols=[0, 1])\n",
    "df.head()"
   ]
  },
  {
   "cell_type": "code",
   "execution_count": 14,
   "metadata": {},
   "outputs": [],
   "source": [
    "from pycountry import countries"
   ]
  },
  {
   "cell_type": "code",
   "execution_count": 15,
   "metadata": {},
   "outputs": [],
   "source": [
    "def alpha3code(column):\n",
    "    CODE=[]\n",
    "    for country in column:\n",
    "        try:\n",
    "            code=countries.get(name=country).alpha_3\n",
    "           # .alpha_3 means 3-letter country code \n",
    "           # .alpha_2 means 2-letter country code\n",
    "            CODE.append(code)\n",
    "        except:\n",
    "            CODE.append(country)\n",
    "    return CODE"
   ]
  },
  {
   "cell_type": "code",
   "execution_count": 16,
   "metadata": {},
   "outputs": [
    {
     "data": {
      "text/html": [
       "<div>\n",
       "<style scoped>\n",
       "    .dataframe tbody tr th:only-of-type {\n",
       "        vertical-align: middle;\n",
       "    }\n",
       "\n",
       "    .dataframe tbody tr th {\n",
       "        vertical-align: top;\n",
       "    }\n",
       "\n",
       "    .dataframe thead th {\n",
       "        text-align: right;\n",
       "    }\n",
       "</style>\n",
       "<table border=\"1\" class=\"dataframe\">\n",
       "  <thead>\n",
       "    <tr style=\"text-align: right;\">\n",
       "      <th></th>\n",
       "      <th>Countries</th>\n",
       "      <th>Total_Cases</th>\n",
       "      <th>CODE</th>\n",
       "    </tr>\n",
       "  </thead>\n",
       "  <tbody>\n",
       "    <tr>\n",
       "      <td>0</td>\n",
       "      <td>India</td>\n",
       "      <td>10,791,123</td>\n",
       "      <td>IND</td>\n",
       "    </tr>\n",
       "    <tr>\n",
       "      <td>1</td>\n",
       "      <td>Brazil</td>\n",
       "      <td>9,339,921</td>\n",
       "      <td>BRA</td>\n",
       "    </tr>\n",
       "    <tr>\n",
       "      <td>2</td>\n",
       "      <td>Russia</td>\n",
       "      <td>3,901,204</td>\n",
       "      <td>Russia</td>\n",
       "    </tr>\n",
       "    <tr>\n",
       "      <td>3</td>\n",
       "      <td>UK</td>\n",
       "      <td>3,871,825</td>\n",
       "      <td>UK</td>\n",
       "    </tr>\n",
       "    <tr>\n",
       "      <td>4</td>\n",
       "      <td>France</td>\n",
       "      <td>3,251,160</td>\n",
       "      <td>FRA</td>\n",
       "    </tr>\n",
       "  </tbody>\n",
       "</table>\n",
       "</div>"
      ],
      "text/plain": [
       "  Countries Total_Cases    CODE\n",
       "0     India  10,791,123     IND\n",
       "1    Brazil   9,339,921     BRA\n",
       "2    Russia   3,901,204  Russia\n",
       "3        UK   3,871,825      UK\n",
       "4    France   3,251,160     FRA"
      ]
     },
     "execution_count": 16,
     "metadata": {},
     "output_type": "execute_result"
    }
   ],
   "source": [
    "df['CODE']=alpha3code(df.Countries)\n",
    "df.head()"
   ]
  },
  {
   "cell_type": "code",
   "execution_count": 17,
   "metadata": {
    "scrolled": true
   },
   "outputs": [
    {
     "name": "stderr",
     "output_type": "stream",
     "text": [
      "C:\\Users\\prith\\Anaconda3\\lib\\site-packages\\ipykernel_launcher.py:1: FutureWarning: set_value is deprecated and will be removed in a future release. Please use .at[] or .iat[] accessors instead\n",
      "  \"\"\"Entry point for launching an IPython kernel.\n",
      "C:\\Users\\prith\\Anaconda3\\lib\\site-packages\\ipykernel_launcher.py:2: FutureWarning: set_value is deprecated and will be removed in a future release. Please use .at[] or .iat[] accessors instead\n",
      "  \n",
      "C:\\Users\\prith\\Anaconda3\\lib\\site-packages\\ipykernel_launcher.py:3: FutureWarning: set_value is deprecated and will be removed in a future release. Please use .at[] or .iat[] accessors instead\n",
      "  This is separate from the ipykernel package so we can avoid doing imports until\n"
     ]
    },
    {
     "data": {
      "text/html": [
       "<div>\n",
       "<style scoped>\n",
       "    .dataframe tbody tr th:only-of-type {\n",
       "        vertical-align: middle;\n",
       "    }\n",
       "\n",
       "    .dataframe tbody tr th {\n",
       "        vertical-align: top;\n",
       "    }\n",
       "\n",
       "    .dataframe thead th {\n",
       "        text-align: right;\n",
       "    }\n",
       "</style>\n",
       "<table border=\"1\" class=\"dataframe\">\n",
       "  <thead>\n",
       "    <tr style=\"text-align: right;\">\n",
       "      <th></th>\n",
       "      <th>Countries</th>\n",
       "      <th>Total_Cases</th>\n",
       "      <th>CODE</th>\n",
       "    </tr>\n",
       "  </thead>\n",
       "  <tbody>\n",
       "    <tr>\n",
       "      <td>0</td>\n",
       "      <td>India</td>\n",
       "      <td>10,791,123</td>\n",
       "      <td>IND</td>\n",
       "    </tr>\n",
       "    <tr>\n",
       "      <td>1</td>\n",
       "      <td>Brazil</td>\n",
       "      <td>9,339,921</td>\n",
       "      <td>BRA</td>\n",
       "    </tr>\n",
       "    <tr>\n",
       "      <td>2</td>\n",
       "      <td>Russia</td>\n",
       "      <td>3,901,204</td>\n",
       "      <td>Russia</td>\n",
       "    </tr>\n",
       "    <tr>\n",
       "      <td>3</td>\n",
       "      <td>UK</td>\n",
       "      <td>3,871,825</td>\n",
       "      <td>RUS</td>\n",
       "    </tr>\n",
       "    <tr>\n",
       "      <td>4</td>\n",
       "      <td>France</td>\n",
       "      <td>3,251,160</td>\n",
       "      <td>GBR</td>\n",
       "    </tr>\n",
       "    <tr>\n",
       "      <td>5</td>\n",
       "      <td>Spain</td>\n",
       "      <td>2,913,389</td>\n",
       "      <td>ESP</td>\n",
       "    </tr>\n",
       "    <tr>\n",
       "      <td>6</td>\n",
       "      <td>Italy</td>\n",
       "      <td>2,583,790</td>\n",
       "      <td>ITA</td>\n",
       "    </tr>\n",
       "    <tr>\n",
       "      <td>7</td>\n",
       "      <td>Turkey</td>\n",
       "      <td>2,501,079</td>\n",
       "      <td>TUR</td>\n",
       "    </tr>\n",
       "    <tr>\n",
       "      <td>8</td>\n",
       "      <td>Germany</td>\n",
       "      <td>2,252,489</td>\n",
       "      <td>DEU</td>\n",
       "    </tr>\n",
       "    <tr>\n",
       "      <td>9</td>\n",
       "      <td>Colombia</td>\n",
       "      <td>2,125,622</td>\n",
       "      <td>COL</td>\n",
       "    </tr>\n",
       "    <tr>\n",
       "      <td>10</td>\n",
       "      <td>Argentina</td>\n",
       "      <td>1,952,744</td>\n",
       "      <td>ARG</td>\n",
       "    </tr>\n",
       "    <tr>\n",
       "      <td>11</td>\n",
       "      <td>Mexico</td>\n",
       "      <td>1,886,245</td>\n",
       "      <td>MEX</td>\n",
       "    </tr>\n",
       "    <tr>\n",
       "      <td>12</td>\n",
       "      <td>Poland</td>\n",
       "      <td>1,527,016</td>\n",
       "      <td>POL</td>\n",
       "    </tr>\n",
       "    <tr>\n",
       "      <td>13</td>\n",
       "      <td>South Africa</td>\n",
       "      <td>1,463,016</td>\n",
       "      <td>ZAF</td>\n",
       "    </tr>\n",
       "    <tr>\n",
       "      <td>14</td>\n",
       "      <td>Iran</td>\n",
       "      <td>1,438,286</td>\n",
       "      <td>Iran</td>\n",
       "    </tr>\n",
       "    <tr>\n",
       "      <td>15</td>\n",
       "      <td>Ukraine</td>\n",
       "      <td>1,227,164</td>\n",
       "      <td>IRN</td>\n",
       "    </tr>\n",
       "    <tr>\n",
       "      <td>16</td>\n",
       "      <td>Peru</td>\n",
       "      <td>1,158,337</td>\n",
       "      <td>PER</td>\n",
       "    </tr>\n",
       "    <tr>\n",
       "      <td>17</td>\n",
       "      <td>Indonesia</td>\n",
       "      <td>1,111,671</td>\n",
       "      <td>IDN</td>\n",
       "    </tr>\n",
       "    <tr>\n",
       "      <td>18</td>\n",
       "      <td>Czechia</td>\n",
       "      <td>1,003,657</td>\n",
       "      <td>CZE</td>\n",
       "    </tr>\n",
       "    <tr>\n",
       "      <td>19</td>\n",
       "      <td>Netherlands</td>\n",
       "      <td>989,237</td>\n",
       "      <td>NLD</td>\n",
       "    </tr>\n",
       "    <tr>\n",
       "      <td>20</td>\n",
       "      <td>Canada</td>\n",
       "      <td>789,651</td>\n",
       "      <td>CAN</td>\n",
       "    </tr>\n",
       "    <tr>\n",
       "      <td>21</td>\n",
       "      <td>Portugal</td>\n",
       "      <td>740,944</td>\n",
       "      <td>PRT</td>\n",
       "    </tr>\n",
       "    <tr>\n",
       "      <td>22</td>\n",
       "      <td>Chile</td>\n",
       "      <td>736,645</td>\n",
       "      <td>CHL</td>\n",
       "    </tr>\n",
       "    <tr>\n",
       "      <td>23</td>\n",
       "      <td>Romania</td>\n",
       "      <td>735,484</td>\n",
       "      <td>ROU</td>\n",
       "    </tr>\n",
       "    <tr>\n",
       "      <td>24</td>\n",
       "      <td>Belgium</td>\n",
       "      <td>713,271</td>\n",
       "      <td>BEL</td>\n",
       "    </tr>\n",
       "    <tr>\n",
       "      <td>25</td>\n",
       "      <td>Israel</td>\n",
       "      <td>668,874</td>\n",
       "      <td>ISR</td>\n",
       "    </tr>\n",
       "    <tr>\n",
       "      <td>26</td>\n",
       "      <td>Iraq</td>\n",
       "      <td>623,072</td>\n",
       "      <td>IRQ</td>\n",
       "    </tr>\n",
       "    <tr>\n",
       "      <td>27</td>\n",
       "      <td>Sweden</td>\n",
       "      <td>580,916</td>\n",
       "      <td>SWE</td>\n",
       "    </tr>\n",
       "    <tr>\n",
       "      <td>28</td>\n",
       "      <td>Pakistan</td>\n",
       "      <td>550,540</td>\n",
       "      <td>PAK</td>\n",
       "    </tr>\n",
       "    <tr>\n",
       "      <td>29</td>\n",
       "      <td>Bangladesh</td>\n",
       "      <td>536,545</td>\n",
       "      <td>BGD</td>\n",
       "    </tr>\n",
       "    <tr>\n",
       "      <td>30</td>\n",
       "      <td>Philippines</td>\n",
       "      <td>530,118</td>\n",
       "      <td>PHL</td>\n",
       "    </tr>\n",
       "    <tr>\n",
       "      <td>31</td>\n",
       "      <td>Switzerland</td>\n",
       "      <td>528,524</td>\n",
       "      <td>CHE</td>\n",
       "    </tr>\n",
       "    <tr>\n",
       "      <td>32</td>\n",
       "      <td>Morocco</td>\n",
       "      <td>473,047</td>\n",
       "      <td>MAR</td>\n",
       "    </tr>\n",
       "    <tr>\n",
       "      <td>33</td>\n",
       "      <td>Austria</td>\n",
       "      <td>418,283</td>\n",
       "      <td>AUT</td>\n",
       "    </tr>\n",
       "    <tr>\n",
       "      <td>34</td>\n",
       "      <td>Serbia</td>\n",
       "      <td>400,837</td>\n",
       "      <td>SRB</td>\n",
       "    </tr>\n",
       "    <tr>\n",
       "      <td>35</td>\n",
       "      <td>Japan</td>\n",
       "      <td>393,836</td>\n",
       "      <td>JPN</td>\n",
       "    </tr>\n",
       "    <tr>\n",
       "      <td>36</td>\n",
       "      <td>Hungary</td>\n",
       "      <td>370,336</td>\n",
       "      <td>HUN</td>\n",
       "    </tr>\n",
       "    <tr>\n",
       "      <td>37</td>\n",
       "      <td>Saudi Arabia</td>\n",
       "      <td>368,945</td>\n",
       "      <td>SAU</td>\n",
       "    </tr>\n",
       "    <tr>\n",
       "      <td>38</td>\n",
       "      <td>Jordan</td>\n",
       "      <td>330,474</td>\n",
       "      <td>JOR</td>\n",
       "    </tr>\n",
       "    <tr>\n",
       "      <td>39</td>\n",
       "      <td>Panama</td>\n",
       "      <td>323,382</td>\n",
       "      <td>PAN</td>\n",
       "    </tr>\n",
       "    <tr>\n",
       "      <td>40</td>\n",
       "      <td>UAE</td>\n",
       "      <td>313,626</td>\n",
       "      <td>UAE</td>\n",
       "    </tr>\n",
       "    <tr>\n",
       "      <td>41</td>\n",
       "      <td>Lebanon</td>\n",
       "      <td>309,162</td>\n",
       "      <td>LBN</td>\n",
       "    </tr>\n",
       "    <tr>\n",
       "      <td>42</td>\n",
       "      <td>Nepal</td>\n",
       "      <td>271,431</td>\n",
       "      <td>NPL</td>\n",
       "    </tr>\n",
       "    <tr>\n",
       "      <td>43</td>\n",
       "      <td>Georgia</td>\n",
       "      <td>259,897</td>\n",
       "      <td>GEO</td>\n",
       "    </tr>\n",
       "    <tr>\n",
       "      <td>44</td>\n",
       "      <td>Slovakia</td>\n",
       "      <td>254,826</td>\n",
       "      <td>SVK</td>\n",
       "    </tr>\n",
       "    <tr>\n",
       "      <td>45</td>\n",
       "      <td>Ecuador</td>\n",
       "      <td>252,390</td>\n",
       "      <td>ECU</td>\n",
       "    </tr>\n",
       "    <tr>\n",
       "      <td>46</td>\n",
       "      <td>Belarus</td>\n",
       "      <td>251,705</td>\n",
       "      <td>BLR</td>\n",
       "    </tr>\n",
       "    <tr>\n",
       "      <td>47</td>\n",
       "      <td>Croatia</td>\n",
       "      <td>233,637</td>\n",
       "      <td>HRV</td>\n",
       "    </tr>\n",
       "    <tr>\n",
       "      <td>48</td>\n",
       "      <td>Azerbaijan</td>\n",
       "      <td>230,617</td>\n",
       "      <td>AZE</td>\n",
       "    </tr>\n",
       "    <tr>\n",
       "      <td>49</td>\n",
       "      <td>Malaysia</td>\n",
       "      <td>226,912</td>\n",
       "      <td>MYS</td>\n",
       "    </tr>\n",
       "  </tbody>\n",
       "</table>\n",
       "</div>"
      ],
      "text/plain": [
       "       Countries Total_Cases    CODE\n",
       "0          India  10,791,123     IND\n",
       "1         Brazil   9,339,921     BRA\n",
       "2         Russia   3,901,204  Russia\n",
       "3             UK   3,871,825     RUS\n",
       "4         France   3,251,160     GBR\n",
       "5          Spain   2,913,389     ESP\n",
       "6          Italy   2,583,790     ITA\n",
       "7         Turkey   2,501,079     TUR\n",
       "8        Germany   2,252,489     DEU\n",
       "9       Colombia   2,125,622     COL\n",
       "10     Argentina   1,952,744     ARG\n",
       "11        Mexico   1,886,245     MEX\n",
       "12        Poland   1,527,016     POL\n",
       "13  South Africa   1,463,016     ZAF\n",
       "14          Iran   1,438,286    Iran\n",
       "15       Ukraine   1,227,164     IRN\n",
       "16          Peru   1,158,337     PER\n",
       "17     Indonesia   1,111,671     IDN\n",
       "18       Czechia   1,003,657     CZE\n",
       "19   Netherlands     989,237     NLD\n",
       "20        Canada     789,651     CAN\n",
       "21      Portugal     740,944     PRT\n",
       "22         Chile     736,645     CHL\n",
       "23       Romania     735,484     ROU\n",
       "24       Belgium     713,271     BEL\n",
       "25        Israel     668,874     ISR\n",
       "26          Iraq     623,072     IRQ\n",
       "27        Sweden     580,916     SWE\n",
       "28      Pakistan     550,540     PAK\n",
       "29    Bangladesh     536,545     BGD\n",
       "30   Philippines     530,118     PHL\n",
       "31   Switzerland     528,524     CHE\n",
       "32       Morocco     473,047     MAR\n",
       "33       Austria     418,283     AUT\n",
       "34        Serbia     400,837     SRB\n",
       "35         Japan     393,836     JPN\n",
       "36       Hungary     370,336     HUN\n",
       "37  Saudi Arabia     368,945     SAU\n",
       "38        Jordan     330,474     JOR\n",
       "39        Panama     323,382     PAN\n",
       "40           UAE     313,626     UAE\n",
       "41       Lebanon     309,162     LBN\n",
       "42         Nepal     271,431     NPL\n",
       "43       Georgia     259,897     GEO\n",
       "44      Slovakia     254,826     SVK\n",
       "45       Ecuador     252,390     ECU\n",
       "46       Belarus     251,705     BLR\n",
       "47       Croatia     233,637     HRV\n",
       "48    Azerbaijan     230,617     AZE\n",
       "49      Malaysia     226,912     MYS"
      ]
     },
     "execution_count": 17,
     "metadata": {},
     "output_type": "execute_result"
    }
   ],
   "source": [
    "df.set_value(3, 'CODE', \"RUS\")\n",
    "df.set_value(4, 'CODE', \"GBR\")\n",
    "df.set_value(15, 'CODE', \"IRN\")"
   ]
  },
  {
   "cell_type": "code",
   "execution_count": 18,
   "metadata": {},
   "outputs": [],
   "source": [
    "from geopy.exc import GeocoderTimedOut \n",
    "from geopy.geocoders import Nominatim "
   ]
  },
  {
   "cell_type": "code",
   "execution_count": 19,
   "metadata": {},
   "outputs": [
    {
     "name": "stdout",
     "output_type": "stream",
     "text": [
      "latitude is :- 54.7023545 \n",
      "longtitude is:- -3.2765753\n"
     ]
    }
   ],
   "source": [
    "from geopy.geocoders import Nominatim\n",
    "geolocator = Nominatim(user_agent=\"my_user_agent\")\n",
    "city =\"London\"\n",
    "country =\"Uk\"\n",
    "loc = geolocator.geocode(country)\n",
    "print(\"latitude is :-\" ,loc.latitude,\"\\nlongtitude is:-\" ,loc.longitude)"
   ]
  },
  {
   "cell_type": "code",
   "execution_count": 20,
   "metadata": {},
   "outputs": [
    {
     "data": {
      "text/html": [
       "<div>\n",
       "<style scoped>\n",
       "    .dataframe tbody tr th:only-of-type {\n",
       "        vertical-align: middle;\n",
       "    }\n",
       "\n",
       "    .dataframe tbody tr th {\n",
       "        vertical-align: top;\n",
       "    }\n",
       "\n",
       "    .dataframe thead th {\n",
       "        text-align: right;\n",
       "    }\n",
       "</style>\n",
       "<table border=\"1\" class=\"dataframe\">\n",
       "  <thead>\n",
       "    <tr style=\"text-align: right;\">\n",
       "      <th></th>\n",
       "      <th>Countries</th>\n",
       "      <th>Total_Cases</th>\n",
       "      <th>CODE</th>\n",
       "      <th>lat</th>\n",
       "      <th>long</th>\n",
       "    </tr>\n",
       "  </thead>\n",
       "  <tbody>\n",
       "    <tr>\n",
       "      <td>0</td>\n",
       "      <td>India</td>\n",
       "      <td>10,791,123</td>\n",
       "      <td>IND</td>\n",
       "      <td>22.351115</td>\n",
       "      <td>78.667743</td>\n",
       "    </tr>\n",
       "    <tr>\n",
       "      <td>1</td>\n",
       "      <td>Brazil</td>\n",
       "      <td>9,339,921</td>\n",
       "      <td>BRA</td>\n",
       "      <td>-10.333333</td>\n",
       "      <td>-53.200000</td>\n",
       "    </tr>\n",
       "    <tr>\n",
       "      <td>2</td>\n",
       "      <td>Russia</td>\n",
       "      <td>3,901,204</td>\n",
       "      <td>Russia</td>\n",
       "      <td>64.686314</td>\n",
       "      <td>97.745306</td>\n",
       "    </tr>\n",
       "    <tr>\n",
       "      <td>3</td>\n",
       "      <td>UK</td>\n",
       "      <td>3,871,825</td>\n",
       "      <td>RUS</td>\n",
       "      <td>54.702354</td>\n",
       "      <td>-3.276575</td>\n",
       "    </tr>\n",
       "    <tr>\n",
       "      <td>4</td>\n",
       "      <td>France</td>\n",
       "      <td>3,251,160</td>\n",
       "      <td>GBR</td>\n",
       "      <td>46.603354</td>\n",
       "      <td>1.888334</td>\n",
       "    </tr>\n",
       "  </tbody>\n",
       "</table>\n",
       "</div>"
      ],
      "text/plain": [
       "  Countries Total_Cases    CODE        lat       long\n",
       "0     India  10,791,123     IND  22.351115  78.667743\n",
       "1    Brazil   9,339,921     BRA -10.333333 -53.200000\n",
       "2    Russia   3,901,204  Russia  64.686314  97.745306\n",
       "3        UK   3,871,825     RUS  54.702354  -3.276575\n",
       "4    France   3,251,160     GBR  46.603354   1.888334"
      ]
     },
     "execution_count": 20,
     "metadata": {},
     "output_type": "execute_result"
    }
   ],
   "source": [
    "def get_lat_long(column):\n",
    "    lat = []\n",
    "    long = []\n",
    "    geolocator = Nominatim(user_agent=\"my_user_agent\")\n",
    "    for country in column:\n",
    "        loc = geolocator.geocode(country)\n",
    "        lat.append(loc.latitude)\n",
    "        long.append(loc.longitude)\n",
    "    return lat, long\n",
    "df['lat'] = get_lat_long(df.Countries)[0]\n",
    "df['long'] = get_lat_long(df.Countries)[1]\n",
    "df.head()"
   ]
  },
  {
   "cell_type": "code",
   "execution_count": 21,
   "metadata": {},
   "outputs": [
    {
     "name": "stdout",
     "output_type": "stream",
     "text": [
      "<class 'pandas.core.frame.DataFrame'>\n",
      "RangeIndex: 50 entries, 0 to 49\n",
      "Data columns (total 5 columns):\n",
      "Countries      50 non-null object\n",
      "Total_Cases    50 non-null object\n",
      "CODE           50 non-null object\n",
      "lat            50 non-null float64\n",
      "long           50 non-null float64\n",
      "dtypes: float64(2), object(3)\n",
      "memory usage: 2.1+ KB\n"
     ]
    }
   ],
   "source": [
    "df.info()"
   ]
  },
  {
   "cell_type": "code",
   "execution_count": 22,
   "metadata": {},
   "outputs": [],
   "source": [
    "from scipy.interpolate import interp1d\n",
    "import plotly.express as px"
   ]
  },
  {
   "cell_type": "code",
   "execution_count": 31,
   "metadata": {},
   "outputs": [
    {
     "name": "stdout",
     "output_type": "stream",
     "text": [
      "Requirement already satisfied: plotly in c:\\users\\prith\\anaconda3\\lib\\site-packages (4.6.0)\n",
      "Collecting plotly-orca\n"
     ]
    },
    {
     "name": "stderr",
     "output_type": "stream",
     "text": [
      "  ERROR: Could not find a version that satisfies the requirement plotly-orca (from versions: none)\n",
      "ERROR: No matching distribution found for plotly-orca\n"
     ]
    }
   ],
   "source": [
    "! pip install plotly plotly-orca"
   ]
  },
  {
   "cell_type": "code",
   "execution_count": 33,
   "metadata": {
    "scrolled": true
   },
   "outputs": [
    {
     "data": {
      "application/vnd.plotly.v1+json": {
       "config": {
        "plotlyServerURL": "https://plot.ly"
       },
       "data": [
        {
         "coloraxis": "coloraxis",
         "hovertemplate": "lat=%{lat}<br>long=%{lon}<extra></extra>",
         "lat": [
          22.3511148,
          -10.3333333,
          64.6863136,
          54.7023545,
          46.603354,
          39.3260685,
          42.6384261,
          38.9597594,
          51.0834196,
          2.8894434,
          -34.9964963,
          22.5000485,
          52.215933,
          -28.8166236,
          32.6475314,
          49.4871968,
          -6.8699697,
          -2.4833826,
          49.8167003,
          52.5001698,
          61.0666922,
          40.0332629,
          -31.7613365,
          45.9852129,
          50.6402809,
          31.5313113,
          33.0955793,
          59.6749712,
          30.3308401,
          24.4768783,
          12.7503486,
          46.7985624,
          31.1728205,
          47.2000338,
          44.1534121,
          36.5748441,
          47.1817585,
          25.6242618,
          31.1667049,
          8.559559,
          49.4871968,
          33.8750629,
          28.1083929,
          32.3293809,
          48.7411522,
          -1.3397668,
          53.4250605,
          45.5643442,
          40.3936294,
          4.5693754
         ],
         "lon": [
          78.6677428,
          -53.2,
          97.7453061,
          -3.2765753,
          1.8883335,
          -4.8379791,
          12.674297,
          34.9249653,
          10.4234469,
          -73.783892,
          -64.9672817,
          -100.0000375,
          19.134422,
          24.991639,
          54.5643516,
          31.2718321,
          -75.0458515,
          117.8902853,
          15.4749544,
          5.7480821,
          -107.991707,
          -7.8896263,
          -71.3187697,
          24.6859225,
          4.6667145,
          34.8667654,
          44.1749775,
          14.5208584,
          71.247499,
          90.2932426,
          122.7312101,
          8.2319736,
          -7.3362482,
          13.199959,
          20.55144,
          139.2394179,
          19.5060937,
          42.3528328,
          36.941628,
          -81.1308434,
          31.2718321,
          35.843409,
          84.0917139,
          -83.1137366,
          19.4528646,
          -79.3666965,
          27.6971358,
          17.0118954,
          47.7872508,
          102.2656823
         ],
         "name": "",
         "radius": [
          16,
          14.52070785595789,
          8.976716508255583,
          8.946768834603112,
          8.314089952833449,
          7.969780899520921,
          7.633802027259074,
          7.54949003449317,
          7.296088210289904,
          7.166765513354404,
          6.99054120600249,
          6.922755020284267,
          6.55657261589666,
          6.491333801990192,
          6.466125116554145,
          6.250916540467247,
          6.180757292893176,
          6.133188003990687,
          6.02308323453298,
          6.008384114274679,
          5.804934834394421,
          5.755285038942197,
          5.750902825489323,
          5.749719352630802,
          5.727076387422921,
          5.68182001834471,
          5.635131453429959,
          5.5921594621949415,
          5.561195490144584,
          5.54692959638488,
          5.540378192369617,
          5.538753338160759,
          5.48220249942499,
          5.4263784618503985,
          5.408594768922082,
          5.401458254294595,
          5.377503377313314,
          5.376085452467315,
          5.336869789814257,
          5.329640513748246,
          5.319695672053379,
          5.3151452647834025,
          5.276683925916138,
          5.264926668422431,
          5.259757511776811,
          5.257274359422496,
          5.256576100242403,
          5.238158367591433,
          5.235079911060222,
          5.231303195348917
         ],
         "subplot": "mapbox",
         "type": "densitymapbox"
        }
       ],
       "layout": {
        "coloraxis": {
         "colorbar": {
          "title": {}
         },
         "colorscale": [
          [
           0,
           "#0d0887"
          ],
          [
           0.1111111111111111,
           "#46039f"
          ],
          [
           0.2222222222222222,
           "#7201a8"
          ],
          [
           0.3333333333333333,
           "#9c179e"
          ],
          [
           0.4444444444444444,
           "#bd3786"
          ],
          [
           0.5555555555555556,
           "#d8576b"
          ],
          [
           0.6666666666666666,
           "#ed7953"
          ],
          [
           0.7777777777777778,
           "#fb9f3a"
          ],
          [
           0.8888888888888888,
           "#fdca26"
          ],
          [
           1,
           "#f0f921"
          ]
         ]
        },
        "legend": {
         "tracegroupgap": 0
        },
        "mapbox": {
         "center": {
          "lat": 31.006357098,
          "lon": 14.895454643999997
         },
         "domain": {
          "x": [
           0,
           1
          ],
          "y": [
           0,
           1
          ]
         },
         "style": "open-street-map",
         "zoom": 0
        },
        "margin": {
         "t": 60
        },
        "template": {
         "data": {
          "bar": [
           {
            "error_x": {
             "color": "#2a3f5f"
            },
            "error_y": {
             "color": "#2a3f5f"
            },
            "marker": {
             "line": {
              "color": "#E5ECF6",
              "width": 0.5
             }
            },
            "type": "bar"
           }
          ],
          "barpolar": [
           {
            "marker": {
             "line": {
              "color": "#E5ECF6",
              "width": 0.5
             }
            },
            "type": "barpolar"
           }
          ],
          "carpet": [
           {
            "aaxis": {
             "endlinecolor": "#2a3f5f",
             "gridcolor": "white",
             "linecolor": "white",
             "minorgridcolor": "white",
             "startlinecolor": "#2a3f5f"
            },
            "baxis": {
             "endlinecolor": "#2a3f5f",
             "gridcolor": "white",
             "linecolor": "white",
             "minorgridcolor": "white",
             "startlinecolor": "#2a3f5f"
            },
            "type": "carpet"
           }
          ],
          "choropleth": [
           {
            "colorbar": {
             "outlinewidth": 0,
             "ticks": ""
            },
            "type": "choropleth"
           }
          ],
          "contour": [
           {
            "colorbar": {
             "outlinewidth": 0,
             "ticks": ""
            },
            "colorscale": [
             [
              0,
              "#0d0887"
             ],
             [
              0.1111111111111111,
              "#46039f"
             ],
             [
              0.2222222222222222,
              "#7201a8"
             ],
             [
              0.3333333333333333,
              "#9c179e"
             ],
             [
              0.4444444444444444,
              "#bd3786"
             ],
             [
              0.5555555555555556,
              "#d8576b"
             ],
             [
              0.6666666666666666,
              "#ed7953"
             ],
             [
              0.7777777777777778,
              "#fb9f3a"
             ],
             [
              0.8888888888888888,
              "#fdca26"
             ],
             [
              1,
              "#f0f921"
             ]
            ],
            "type": "contour"
           }
          ],
          "contourcarpet": [
           {
            "colorbar": {
             "outlinewidth": 0,
             "ticks": ""
            },
            "type": "contourcarpet"
           }
          ],
          "heatmap": [
           {
            "colorbar": {
             "outlinewidth": 0,
             "ticks": ""
            },
            "colorscale": [
             [
              0,
              "#0d0887"
             ],
             [
              0.1111111111111111,
              "#46039f"
             ],
             [
              0.2222222222222222,
              "#7201a8"
             ],
             [
              0.3333333333333333,
              "#9c179e"
             ],
             [
              0.4444444444444444,
              "#bd3786"
             ],
             [
              0.5555555555555556,
              "#d8576b"
             ],
             [
              0.6666666666666666,
              "#ed7953"
             ],
             [
              0.7777777777777778,
              "#fb9f3a"
             ],
             [
              0.8888888888888888,
              "#fdca26"
             ],
             [
              1,
              "#f0f921"
             ]
            ],
            "type": "heatmap"
           }
          ],
          "heatmapgl": [
           {
            "colorbar": {
             "outlinewidth": 0,
             "ticks": ""
            },
            "colorscale": [
             [
              0,
              "#0d0887"
             ],
             [
              0.1111111111111111,
              "#46039f"
             ],
             [
              0.2222222222222222,
              "#7201a8"
             ],
             [
              0.3333333333333333,
              "#9c179e"
             ],
             [
              0.4444444444444444,
              "#bd3786"
             ],
             [
              0.5555555555555556,
              "#d8576b"
             ],
             [
              0.6666666666666666,
              "#ed7953"
             ],
             [
              0.7777777777777778,
              "#fb9f3a"
             ],
             [
              0.8888888888888888,
              "#fdca26"
             ],
             [
              1,
              "#f0f921"
             ]
            ],
            "type": "heatmapgl"
           }
          ],
          "histogram": [
           {
            "marker": {
             "colorbar": {
              "outlinewidth": 0,
              "ticks": ""
             }
            },
            "type": "histogram"
           }
          ],
          "histogram2d": [
           {
            "colorbar": {
             "outlinewidth": 0,
             "ticks": ""
            },
            "colorscale": [
             [
              0,
              "#0d0887"
             ],
             [
              0.1111111111111111,
              "#46039f"
             ],
             [
              0.2222222222222222,
              "#7201a8"
             ],
             [
              0.3333333333333333,
              "#9c179e"
             ],
             [
              0.4444444444444444,
              "#bd3786"
             ],
             [
              0.5555555555555556,
              "#d8576b"
             ],
             [
              0.6666666666666666,
              "#ed7953"
             ],
             [
              0.7777777777777778,
              "#fb9f3a"
             ],
             [
              0.8888888888888888,
              "#fdca26"
             ],
             [
              1,
              "#f0f921"
             ]
            ],
            "type": "histogram2d"
           }
          ],
          "histogram2dcontour": [
           {
            "colorbar": {
             "outlinewidth": 0,
             "ticks": ""
            },
            "colorscale": [
             [
              0,
              "#0d0887"
             ],
             [
              0.1111111111111111,
              "#46039f"
             ],
             [
              0.2222222222222222,
              "#7201a8"
             ],
             [
              0.3333333333333333,
              "#9c179e"
             ],
             [
              0.4444444444444444,
              "#bd3786"
             ],
             [
              0.5555555555555556,
              "#d8576b"
             ],
             [
              0.6666666666666666,
              "#ed7953"
             ],
             [
              0.7777777777777778,
              "#fb9f3a"
             ],
             [
              0.8888888888888888,
              "#fdca26"
             ],
             [
              1,
              "#f0f921"
             ]
            ],
            "type": "histogram2dcontour"
           }
          ],
          "mesh3d": [
           {
            "colorbar": {
             "outlinewidth": 0,
             "ticks": ""
            },
            "type": "mesh3d"
           }
          ],
          "parcoords": [
           {
            "line": {
             "colorbar": {
              "outlinewidth": 0,
              "ticks": ""
             }
            },
            "type": "parcoords"
           }
          ],
          "pie": [
           {
            "automargin": true,
            "type": "pie"
           }
          ],
          "scatter": [
           {
            "marker": {
             "colorbar": {
              "outlinewidth": 0,
              "ticks": ""
             }
            },
            "type": "scatter"
           }
          ],
          "scatter3d": [
           {
            "line": {
             "colorbar": {
              "outlinewidth": 0,
              "ticks": ""
             }
            },
            "marker": {
             "colorbar": {
              "outlinewidth": 0,
              "ticks": ""
             }
            },
            "type": "scatter3d"
           }
          ],
          "scattercarpet": [
           {
            "marker": {
             "colorbar": {
              "outlinewidth": 0,
              "ticks": ""
             }
            },
            "type": "scattercarpet"
           }
          ],
          "scattergeo": [
           {
            "marker": {
             "colorbar": {
              "outlinewidth": 0,
              "ticks": ""
             }
            },
            "type": "scattergeo"
           }
          ],
          "scattergl": [
           {
            "marker": {
             "colorbar": {
              "outlinewidth": 0,
              "ticks": ""
             }
            },
            "type": "scattergl"
           }
          ],
          "scattermapbox": [
           {
            "marker": {
             "colorbar": {
              "outlinewidth": 0,
              "ticks": ""
             }
            },
            "type": "scattermapbox"
           }
          ],
          "scatterpolar": [
           {
            "marker": {
             "colorbar": {
              "outlinewidth": 0,
              "ticks": ""
             }
            },
            "type": "scatterpolar"
           }
          ],
          "scatterpolargl": [
           {
            "marker": {
             "colorbar": {
              "outlinewidth": 0,
              "ticks": ""
             }
            },
            "type": "scatterpolargl"
           }
          ],
          "scatterternary": [
           {
            "marker": {
             "colorbar": {
              "outlinewidth": 0,
              "ticks": ""
             }
            },
            "type": "scatterternary"
           }
          ],
          "surface": [
           {
            "colorbar": {
             "outlinewidth": 0,
             "ticks": ""
            },
            "colorscale": [
             [
              0,
              "#0d0887"
             ],
             [
              0.1111111111111111,
              "#46039f"
             ],
             [
              0.2222222222222222,
              "#7201a8"
             ],
             [
              0.3333333333333333,
              "#9c179e"
             ],
             [
              0.4444444444444444,
              "#bd3786"
             ],
             [
              0.5555555555555556,
              "#d8576b"
             ],
             [
              0.6666666666666666,
              "#ed7953"
             ],
             [
              0.7777777777777778,
              "#fb9f3a"
             ],
             [
              0.8888888888888888,
              "#fdca26"
             ],
             [
              1,
              "#f0f921"
             ]
            ],
            "type": "surface"
           }
          ],
          "table": [
           {
            "cells": {
             "fill": {
              "color": "#EBF0F8"
             },
             "line": {
              "color": "white"
             }
            },
            "header": {
             "fill": {
              "color": "#C8D4E3"
             },
             "line": {
              "color": "white"
             }
            },
            "type": "table"
           }
          ]
         },
         "layout": {
          "annotationdefaults": {
           "arrowcolor": "#2a3f5f",
           "arrowhead": 0,
           "arrowwidth": 1
          },
          "coloraxis": {
           "colorbar": {
            "outlinewidth": 0,
            "ticks": ""
           }
          },
          "colorscale": {
           "diverging": [
            [
             0,
             "#8e0152"
            ],
            [
             0.1,
             "#c51b7d"
            ],
            [
             0.2,
             "#de77ae"
            ],
            [
             0.3,
             "#f1b6da"
            ],
            [
             0.4,
             "#fde0ef"
            ],
            [
             0.5,
             "#f7f7f7"
            ],
            [
             0.6,
             "#e6f5d0"
            ],
            [
             0.7,
             "#b8e186"
            ],
            [
             0.8,
             "#7fbc41"
            ],
            [
             0.9,
             "#4d9221"
            ],
            [
             1,
             "#276419"
            ]
           ],
           "sequential": [
            [
             0,
             "#0d0887"
            ],
            [
             0.1111111111111111,
             "#46039f"
            ],
            [
             0.2222222222222222,
             "#7201a8"
            ],
            [
             0.3333333333333333,
             "#9c179e"
            ],
            [
             0.4444444444444444,
             "#bd3786"
            ],
            [
             0.5555555555555556,
             "#d8576b"
            ],
            [
             0.6666666666666666,
             "#ed7953"
            ],
            [
             0.7777777777777778,
             "#fb9f3a"
            ],
            [
             0.8888888888888888,
             "#fdca26"
            ],
            [
             1,
             "#f0f921"
            ]
           ],
           "sequentialminus": [
            [
             0,
             "#0d0887"
            ],
            [
             0.1111111111111111,
             "#46039f"
            ],
            [
             0.2222222222222222,
             "#7201a8"
            ],
            [
             0.3333333333333333,
             "#9c179e"
            ],
            [
             0.4444444444444444,
             "#bd3786"
            ],
            [
             0.5555555555555556,
             "#d8576b"
            ],
            [
             0.6666666666666666,
             "#ed7953"
            ],
            [
             0.7777777777777778,
             "#fb9f3a"
            ],
            [
             0.8888888888888888,
             "#fdca26"
            ],
            [
             1,
             "#f0f921"
            ]
           ]
          },
          "colorway": [
           "#636efa",
           "#EF553B",
           "#00cc96",
           "#ab63fa",
           "#FFA15A",
           "#19d3f3",
           "#FF6692",
           "#B6E880",
           "#FF97FF",
           "#FECB52"
          ],
          "font": {
           "color": "#2a3f5f"
          },
          "geo": {
           "bgcolor": "white",
           "lakecolor": "white",
           "landcolor": "#E5ECF6",
           "showlakes": true,
           "showland": true,
           "subunitcolor": "white"
          },
          "hoverlabel": {
           "align": "left"
          },
          "hovermode": "closest",
          "mapbox": {
           "style": "light"
          },
          "paper_bgcolor": "white",
          "plot_bgcolor": "#E5ECF6",
          "polar": {
           "angularaxis": {
            "gridcolor": "white",
            "linecolor": "white",
            "ticks": ""
           },
           "bgcolor": "#E5ECF6",
           "radialaxis": {
            "gridcolor": "white",
            "linecolor": "white",
            "ticks": ""
           }
          },
          "scene": {
           "xaxis": {
            "backgroundcolor": "#E5ECF6",
            "gridcolor": "white",
            "gridwidth": 2,
            "linecolor": "white",
            "showbackground": true,
            "ticks": "",
            "zerolinecolor": "white"
           },
           "yaxis": {
            "backgroundcolor": "#E5ECF6",
            "gridcolor": "white",
            "gridwidth": 2,
            "linecolor": "white",
            "showbackground": true,
            "ticks": "",
            "zerolinecolor": "white"
           },
           "zaxis": {
            "backgroundcolor": "#E5ECF6",
            "gridcolor": "white",
            "gridwidth": 2,
            "linecolor": "white",
            "showbackground": true,
            "ticks": "",
            "zerolinecolor": "white"
           }
          },
          "shapedefaults": {
           "line": {
            "color": "#2a3f5f"
           }
          },
          "ternary": {
           "aaxis": {
            "gridcolor": "white",
            "linecolor": "white",
            "ticks": ""
           },
           "baxis": {
            "gridcolor": "white",
            "linecolor": "white",
            "ticks": ""
           },
           "bgcolor": "#E5ECF6",
           "caxis": {
            "gridcolor": "white",
            "linecolor": "white",
            "ticks": ""
           }
          },
          "title": {
           "x": 0.05
          },
          "xaxis": {
           "automargin": true,
           "gridcolor": "white",
           "linecolor": "white",
           "ticks": "",
           "title": {
            "standoff": 15
           },
           "zerolinecolor": "white",
           "zerolinewidth": 2
          },
          "yaxis": {
           "automargin": true,
           "gridcolor": "white",
           "linecolor": "white",
           "ticks": "",
           "title": {
            "standoff": 15
           },
           "zerolinecolor": "white",
           "zerolinewidth": 2
          }
         }
        }
       }
      },
      "text/html": [
       "<div>\n",
       "        \n",
       "        \n",
       "            <div id=\"12c3c757-a0ca-48c3-a488-d24c0b1b3559\" class=\"plotly-graph-div\" style=\"height:525px; width:100%;\"></div>\n",
       "            <script type=\"text/javascript\">\n",
       "                require([\"plotly\"], function(Plotly) {\n",
       "                    window.PLOTLYENV=window.PLOTLYENV || {};\n",
       "                    \n",
       "                if (document.getElementById(\"12c3c757-a0ca-48c3-a488-d24c0b1b3559\")) {\n",
       "                    Plotly.newPlot(\n",
       "                        '12c3c757-a0ca-48c3-a488-d24c0b1b3559',\n",
       "                        [{\"coloraxis\": \"coloraxis\", \"hovertemplate\": \"lat=%{lat}<br>long=%{lon}<extra></extra>\", \"lat\": [22.3511148, -10.3333333, 64.6863136, 54.7023545, 46.603354, 39.3260685, 42.6384261, 38.9597594, 51.0834196, 2.8894434, -34.9964963, 22.5000485, 52.215933, -28.8166236, 32.6475314, 49.4871968, -6.8699697, -2.4833826, 49.8167003, 52.5001698, 61.0666922, 40.0332629, -31.7613365, 45.9852129, 50.6402809, 31.5313113, 33.0955793, 59.6749712, 30.3308401, 24.4768783, 12.7503486, 46.7985624, 31.1728205, 47.2000338, 44.1534121, 36.5748441, 47.1817585, 25.6242618, 31.1667049, 8.559559, 49.4871968, 33.8750629, 28.1083929, 32.3293809, 48.7411522, -1.3397668, 53.4250605, 45.5643442, 40.3936294, 4.5693754], \"lon\": [78.6677428, -53.2, 97.7453061, -3.2765753, 1.8883335, -4.8379791, 12.674297, 34.9249653, 10.4234469, -73.783892, -64.9672817, -100.0000375, 19.134422, 24.991639, 54.5643516, 31.2718321, -75.0458515, 117.8902853, 15.4749544, 5.7480821, -107.991707, -7.8896263, -71.3187697, 24.6859225, 4.6667145, 34.8667654, 44.1749775, 14.5208584, 71.247499, 90.2932426, 122.7312101, 8.2319736, -7.3362482, 13.199959, 20.55144, 139.2394179, 19.5060937, 42.3528328, 36.941628, -81.1308434, 31.2718321, 35.843409, 84.0917139, -83.1137366, 19.4528646, -79.3666965, 27.6971358, 17.0118954, 47.7872508, 102.2656823], \"name\": \"\", \"radius\": [16.0, 14.52070785595789, 8.976716508255583, 8.946768834603112, 8.314089952833449, 7.969780899520921, 7.633802027259074, 7.54949003449317, 7.296088210289904, 7.166765513354404, 6.99054120600249, 6.922755020284267, 6.55657261589666, 6.491333801990192, 6.466125116554145, 6.250916540467247, 6.180757292893176, 6.133188003990687, 6.02308323453298, 6.008384114274679, 5.804934834394421, 5.755285038942197, 5.750902825489323, 5.749719352630802, 5.727076387422921, 5.68182001834471, 5.635131453429959, 5.5921594621949415, 5.561195490144584, 5.54692959638488, 5.540378192369617, 5.538753338160759, 5.48220249942499, 5.4263784618503985, 5.408594768922082, 5.401458254294595, 5.377503377313314, 5.376085452467315, 5.336869789814257, 5.329640513748246, 5.319695672053379, 5.3151452647834025, 5.276683925916138, 5.264926668422431, 5.259757511776811, 5.257274359422496, 5.256576100242403, 5.238158367591433, 5.235079911060222, 5.231303195348917], \"subplot\": \"mapbox\", \"type\": \"densitymapbox\"}],\n",
       "                        {\"coloraxis\": {\"colorbar\": {\"title\": {}}, \"colorscale\": [[0.0, \"#0d0887\"], [0.1111111111111111, \"#46039f\"], [0.2222222222222222, \"#7201a8\"], [0.3333333333333333, \"#9c179e\"], [0.4444444444444444, \"#bd3786\"], [0.5555555555555556, \"#d8576b\"], [0.6666666666666666, \"#ed7953\"], [0.7777777777777778, \"#fb9f3a\"], [0.8888888888888888, \"#fdca26\"], [1.0, \"#f0f921\"]]}, \"legend\": {\"tracegroupgap\": 0}, \"mapbox\": {\"center\": {\"lat\": 31.006357098, \"lon\": 14.895454643999997}, \"domain\": {\"x\": [0.0, 1.0], \"y\": [0.0, 1.0]}, \"style\": \"open-street-map\", \"zoom\": 0}, \"margin\": {\"t\": 60}, \"template\": {\"data\": {\"bar\": [{\"error_x\": {\"color\": \"#2a3f5f\"}, \"error_y\": {\"color\": \"#2a3f5f\"}, \"marker\": {\"line\": {\"color\": \"#E5ECF6\", \"width\": 0.5}}, \"type\": \"bar\"}], \"barpolar\": [{\"marker\": {\"line\": {\"color\": \"#E5ECF6\", \"width\": 0.5}}, \"type\": \"barpolar\"}], \"carpet\": [{\"aaxis\": {\"endlinecolor\": \"#2a3f5f\", \"gridcolor\": \"white\", \"linecolor\": \"white\", \"minorgridcolor\": \"white\", \"startlinecolor\": \"#2a3f5f\"}, \"baxis\": {\"endlinecolor\": \"#2a3f5f\", \"gridcolor\": \"white\", \"linecolor\": \"white\", \"minorgridcolor\": \"white\", \"startlinecolor\": \"#2a3f5f\"}, \"type\": \"carpet\"}], \"choropleth\": [{\"colorbar\": {\"outlinewidth\": 0, \"ticks\": \"\"}, \"type\": \"choropleth\"}], \"contour\": [{\"colorbar\": {\"outlinewidth\": 0, \"ticks\": \"\"}, \"colorscale\": [[0.0, \"#0d0887\"], [0.1111111111111111, \"#46039f\"], [0.2222222222222222, \"#7201a8\"], [0.3333333333333333, \"#9c179e\"], [0.4444444444444444, \"#bd3786\"], [0.5555555555555556, \"#d8576b\"], [0.6666666666666666, \"#ed7953\"], [0.7777777777777778, \"#fb9f3a\"], [0.8888888888888888, \"#fdca26\"], [1.0, \"#f0f921\"]], \"type\": \"contour\"}], \"contourcarpet\": [{\"colorbar\": {\"outlinewidth\": 0, \"ticks\": \"\"}, \"type\": \"contourcarpet\"}], \"heatmap\": [{\"colorbar\": {\"outlinewidth\": 0, \"ticks\": \"\"}, \"colorscale\": [[0.0, \"#0d0887\"], [0.1111111111111111, \"#46039f\"], [0.2222222222222222, \"#7201a8\"], [0.3333333333333333, \"#9c179e\"], [0.4444444444444444, \"#bd3786\"], [0.5555555555555556, \"#d8576b\"], [0.6666666666666666, \"#ed7953\"], [0.7777777777777778, \"#fb9f3a\"], [0.8888888888888888, \"#fdca26\"], [1.0, \"#f0f921\"]], \"type\": \"heatmap\"}], \"heatmapgl\": [{\"colorbar\": {\"outlinewidth\": 0, \"ticks\": \"\"}, \"colorscale\": [[0.0, \"#0d0887\"], [0.1111111111111111, \"#46039f\"], [0.2222222222222222, \"#7201a8\"], [0.3333333333333333, \"#9c179e\"], [0.4444444444444444, \"#bd3786\"], [0.5555555555555556, \"#d8576b\"], [0.6666666666666666, \"#ed7953\"], [0.7777777777777778, \"#fb9f3a\"], [0.8888888888888888, \"#fdca26\"], [1.0, \"#f0f921\"]], \"type\": \"heatmapgl\"}], \"histogram\": [{\"marker\": {\"colorbar\": {\"outlinewidth\": 0, \"ticks\": \"\"}}, \"type\": \"histogram\"}], \"histogram2d\": [{\"colorbar\": {\"outlinewidth\": 0, \"ticks\": \"\"}, \"colorscale\": [[0.0, \"#0d0887\"], [0.1111111111111111, \"#46039f\"], [0.2222222222222222, \"#7201a8\"], [0.3333333333333333, \"#9c179e\"], [0.4444444444444444, \"#bd3786\"], [0.5555555555555556, \"#d8576b\"], [0.6666666666666666, \"#ed7953\"], [0.7777777777777778, \"#fb9f3a\"], [0.8888888888888888, \"#fdca26\"], [1.0, \"#f0f921\"]], \"type\": \"histogram2d\"}], \"histogram2dcontour\": [{\"colorbar\": {\"outlinewidth\": 0, \"ticks\": \"\"}, \"colorscale\": [[0.0, \"#0d0887\"], [0.1111111111111111, \"#46039f\"], [0.2222222222222222, \"#7201a8\"], [0.3333333333333333, \"#9c179e\"], [0.4444444444444444, \"#bd3786\"], [0.5555555555555556, \"#d8576b\"], [0.6666666666666666, \"#ed7953\"], [0.7777777777777778, \"#fb9f3a\"], [0.8888888888888888, \"#fdca26\"], [1.0, \"#f0f921\"]], \"type\": \"histogram2dcontour\"}], \"mesh3d\": [{\"colorbar\": {\"outlinewidth\": 0, \"ticks\": \"\"}, \"type\": \"mesh3d\"}], \"parcoords\": [{\"line\": {\"colorbar\": {\"outlinewidth\": 0, \"ticks\": \"\"}}, \"type\": \"parcoords\"}], \"pie\": [{\"automargin\": true, \"type\": \"pie\"}], \"scatter\": [{\"marker\": {\"colorbar\": {\"outlinewidth\": 0, \"ticks\": \"\"}}, \"type\": \"scatter\"}], \"scatter3d\": [{\"line\": {\"colorbar\": {\"outlinewidth\": 0, \"ticks\": \"\"}}, \"marker\": {\"colorbar\": {\"outlinewidth\": 0, \"ticks\": \"\"}}, \"type\": \"scatter3d\"}], \"scattercarpet\": [{\"marker\": {\"colorbar\": {\"outlinewidth\": 0, \"ticks\": \"\"}}, \"type\": \"scattercarpet\"}], \"scattergeo\": [{\"marker\": {\"colorbar\": {\"outlinewidth\": 0, \"ticks\": \"\"}}, \"type\": \"scattergeo\"}], \"scattergl\": [{\"marker\": {\"colorbar\": {\"outlinewidth\": 0, \"ticks\": \"\"}}, \"type\": \"scattergl\"}], \"scattermapbox\": [{\"marker\": {\"colorbar\": {\"outlinewidth\": 0, \"ticks\": \"\"}}, \"type\": \"scattermapbox\"}], \"scatterpolar\": [{\"marker\": {\"colorbar\": {\"outlinewidth\": 0, \"ticks\": \"\"}}, \"type\": \"scatterpolar\"}], \"scatterpolargl\": [{\"marker\": {\"colorbar\": {\"outlinewidth\": 0, \"ticks\": \"\"}}, \"type\": \"scatterpolargl\"}], \"scatterternary\": [{\"marker\": {\"colorbar\": {\"outlinewidth\": 0, \"ticks\": \"\"}}, \"type\": \"scatterternary\"}], \"surface\": [{\"colorbar\": {\"outlinewidth\": 0, \"ticks\": \"\"}, \"colorscale\": [[0.0, \"#0d0887\"], [0.1111111111111111, \"#46039f\"], [0.2222222222222222, \"#7201a8\"], [0.3333333333333333, \"#9c179e\"], [0.4444444444444444, \"#bd3786\"], [0.5555555555555556, \"#d8576b\"], [0.6666666666666666, \"#ed7953\"], [0.7777777777777778, \"#fb9f3a\"], [0.8888888888888888, \"#fdca26\"], [1.0, \"#f0f921\"]], \"type\": \"surface\"}], \"table\": [{\"cells\": {\"fill\": {\"color\": \"#EBF0F8\"}, \"line\": {\"color\": \"white\"}}, \"header\": {\"fill\": {\"color\": \"#C8D4E3\"}, \"line\": {\"color\": \"white\"}}, \"type\": \"table\"}]}, \"layout\": {\"annotationdefaults\": {\"arrowcolor\": \"#2a3f5f\", \"arrowhead\": 0, \"arrowwidth\": 1}, \"coloraxis\": {\"colorbar\": {\"outlinewidth\": 0, \"ticks\": \"\"}}, \"colorscale\": {\"diverging\": [[0, \"#8e0152\"], [0.1, \"#c51b7d\"], [0.2, \"#de77ae\"], [0.3, \"#f1b6da\"], [0.4, \"#fde0ef\"], [0.5, \"#f7f7f7\"], [0.6, \"#e6f5d0\"], [0.7, \"#b8e186\"], [0.8, \"#7fbc41\"], [0.9, \"#4d9221\"], [1, \"#276419\"]], \"sequential\": [[0.0, \"#0d0887\"], [0.1111111111111111, \"#46039f\"], [0.2222222222222222, \"#7201a8\"], [0.3333333333333333, \"#9c179e\"], [0.4444444444444444, \"#bd3786\"], [0.5555555555555556, \"#d8576b\"], [0.6666666666666666, \"#ed7953\"], [0.7777777777777778, \"#fb9f3a\"], [0.8888888888888888, \"#fdca26\"], [1.0, \"#f0f921\"]], \"sequentialminus\": [[0.0, \"#0d0887\"], [0.1111111111111111, \"#46039f\"], [0.2222222222222222, \"#7201a8\"], [0.3333333333333333, \"#9c179e\"], [0.4444444444444444, \"#bd3786\"], [0.5555555555555556, \"#d8576b\"], [0.6666666666666666, \"#ed7953\"], [0.7777777777777778, \"#fb9f3a\"], [0.8888888888888888, \"#fdca26\"], [1.0, \"#f0f921\"]]}, \"colorway\": [\"#636efa\", \"#EF553B\", \"#00cc96\", \"#ab63fa\", \"#FFA15A\", \"#19d3f3\", \"#FF6692\", \"#B6E880\", \"#FF97FF\", \"#FECB52\"], \"font\": {\"color\": \"#2a3f5f\"}, \"geo\": {\"bgcolor\": \"white\", \"lakecolor\": \"white\", \"landcolor\": \"#E5ECF6\", \"showlakes\": true, \"showland\": true, \"subunitcolor\": \"white\"}, \"hoverlabel\": {\"align\": \"left\"}, \"hovermode\": \"closest\", \"mapbox\": {\"style\": \"light\"}, \"paper_bgcolor\": \"white\", \"plot_bgcolor\": \"#E5ECF6\", \"polar\": {\"angularaxis\": {\"gridcolor\": \"white\", \"linecolor\": \"white\", \"ticks\": \"\"}, \"bgcolor\": \"#E5ECF6\", \"radialaxis\": {\"gridcolor\": \"white\", \"linecolor\": \"white\", \"ticks\": \"\"}}, \"scene\": {\"xaxis\": {\"backgroundcolor\": \"#E5ECF6\", \"gridcolor\": \"white\", \"gridwidth\": 2, \"linecolor\": \"white\", \"showbackground\": true, \"ticks\": \"\", \"zerolinecolor\": \"white\"}, \"yaxis\": {\"backgroundcolor\": \"#E5ECF6\", \"gridcolor\": \"white\", \"gridwidth\": 2, \"linecolor\": \"white\", \"showbackground\": true, \"ticks\": \"\", \"zerolinecolor\": \"white\"}, \"zaxis\": {\"backgroundcolor\": \"#E5ECF6\", \"gridcolor\": \"white\", \"gridwidth\": 2, \"linecolor\": \"white\", \"showbackground\": true, \"ticks\": \"\", \"zerolinecolor\": \"white\"}}, \"shapedefaults\": {\"line\": {\"color\": \"#2a3f5f\"}}, \"ternary\": {\"aaxis\": {\"gridcolor\": \"white\", \"linecolor\": \"white\", \"ticks\": \"\"}, \"baxis\": {\"gridcolor\": \"white\", \"linecolor\": \"white\", \"ticks\": \"\"}, \"bgcolor\": \"#E5ECF6\", \"caxis\": {\"gridcolor\": \"white\", \"linecolor\": \"white\", \"ticks\": \"\"}}, \"title\": {\"x\": 0.05}, \"xaxis\": {\"automargin\": true, \"gridcolor\": \"white\", \"linecolor\": \"white\", \"ticks\": \"\", \"title\": {\"standoff\": 15}, \"zerolinecolor\": \"white\", \"zerolinewidth\": 2}, \"yaxis\": {\"automargin\": true, \"gridcolor\": \"white\", \"linecolor\": \"white\", \"ticks\": \"\", \"title\": {\"standoff\": 15}, \"zerolinecolor\": \"white\", \"zerolinewidth\": 2}}}},\n",
       "                        {\"responsive\": true}\n",
       "                    ).then(function(){\n",
       "                            \n",
       "var gd = document.getElementById('12c3c757-a0ca-48c3-a488-d24c0b1b3559');\n",
       "var x = new MutationObserver(function (mutations, observer) {{\n",
       "        var display = window.getComputedStyle(gd).display;\n",
       "        if (!display || display === 'none') {{\n",
       "            console.log([gd, 'removed!']);\n",
       "            Plotly.purge(gd);\n",
       "            observer.disconnect();\n",
       "        }}\n",
       "}});\n",
       "\n",
       "// Listen for the removal of the full notebook cells\n",
       "var notebookContainer = gd.closest('#notebook-container');\n",
       "if (notebookContainer) {{\n",
       "    x.observe(notebookContainer, {childList: true});\n",
       "}}\n",
       "\n",
       "// Listen for the clearing of the current output cell\n",
       "var outputEl = gd.closest('.output');\n",
       "if (outputEl) {{\n",
       "    x.observe(outputEl, {childList: true});\n",
       "}}\n",
       "\n",
       "                        })\n",
       "                };\n",
       "                });\n",
       "            </script>\n",
       "        </div>"
      ]
     },
     "metadata": {},
     "output_type": "display_data"
    }
   ],
   "source": [
    "case = df.Total_Cases.values.tolist()\n",
    "new_case = [float(i.replace(',','')) for i in case]\n",
    "m = interp1d([1,max(new_case)],[5, 16])\n",
    "circleradius = m(new_case)\n",
    "fig = px.density_mapbox(df, lat='lat', lon='long', radius=circleradius, zoom=0, mapbox_style='open-street-map')\n",
    "fig.show()\n",
    "#px.offline.iplot(fig, filename='corona_virus_heatmap.png')\n",
    "fig.write_image('corona_virus_heatmap.png')\n",
    "#fig.savefig('corona_virus_heatmap.png')\n",
    "#open-street-map,stamen-watercolor"
   ]
  },
  {
   "cell_type": "code",
   "execution_count": 36,
   "metadata": {},
   "outputs": [],
   "source": [
    "#https://www.google.com/"
   ]
  },
  {
   "cell_type": "code",
   "execution_count": 37,
   "metadata": {},
   "outputs": [],
   "source": [
    "from selenium.webdriver import Chrome\n",
    "from selenium.webdriver.common.keys import Keys"
   ]
  },
  {
   "cell_type": "code",
   "execution_count": 38,
   "metadata": {},
   "outputs": [],
   "source": [
    "from selenium import webdriver\n",
    "from webdriver_manager.chrome import ChromeDriverManager"
   ]
  },
  {
   "cell_type": "code",
   "execution_count": 39,
   "metadata": {},
   "outputs": [
    {
     "name": "stderr",
     "output_type": "stream",
     "text": [
      "[WDM] - ====== WebDriver manager ======\n",
      "[WDM] - Current google-chrome version is 88.0.4324\n",
      "[WDM] - Get LATEST driver version for 88.0.4324\n"
     ]
    },
    {
     "name": "stdout",
     "output_type": "stream",
     "text": [
      "\n",
      "\n"
     ]
    },
    {
     "name": "stderr",
     "output_type": "stream",
     "text": [
      "[WDM] - Get LATEST driver version for 88.0.4324\n",
      "[WDM] - Trying to download new driver from https://chromedriver.storage.googleapis.com/88.0.4324.96/chromedriver_win32.zip\n",
      "[WDM] - Driver has been saved in cache [C:\\Users\\prith\\.wdm\\drivers\\chromedriver\\win32\\88.0.4324.96]\n"
     ]
    }
   ],
   "source": [
    "driver = webdriver.Chrome(ChromeDriverManager().install())"
   ]
  },
  {
   "cell_type": "code",
   "execution_count": 40,
   "metadata": {},
   "outputs": [],
   "source": [
    "driver.get('https://www.google.com/')"
   ]
  },
  {
   "cell_type": "code",
   "execution_count": 41,
   "metadata": {},
   "outputs": [],
   "source": [
    "search_input = driver.find_element_by_xpath('//input[@aria-label=\"Search\"]')"
   ]
  },
  {
   "cell_type": "code",
   "execution_count": 42,
   "metadata": {},
   "outputs": [],
   "source": [
    "search_input.send_keys(\"COVID\")"
   ]
  },
  {
   "cell_type": "code",
   "execution_count": 43,
   "metadata": {},
   "outputs": [],
   "source": [
    "search_input.send_keys(Keys.RETURN)"
   ]
  },
  {
   "cell_type": "code",
   "execution_count": 44,
   "metadata": {},
   "outputs": [],
   "source": [
    "driver.find_element_by_link_text('News').click()"
   ]
  },
  {
   "cell_type": "code",
   "execution_count": 48,
   "metadata": {},
   "outputs": [],
   "source": [
    "cards = driver.find_elements_by_xpath('//div[@class=\"Vouh6c\"]')"
   ]
  },
  {
   "cell_type": "code",
   "execution_count": 49,
   "metadata": {},
   "outputs": [],
   "source": [
    "card = cards[0]"
   ]
  },
  {
   "cell_type": "code",
   "execution_count": 50,
   "metadata": {},
   "outputs": [
    {
     "data": {
      "text/plain": [
       "'Top news'"
      ]
     },
     "execution_count": 50,
     "metadata": {},
     "output_type": "execute_result"
    }
   ],
   "source": [
    "card.text"
   ]
  },
  {
   "cell_type": "code",
   "execution_count": 51,
   "metadata": {},
   "outputs": [
    {
     "data": {
      "text/plain": [
       "10"
      ]
     },
     "execution_count": 51,
     "metadata": {},
     "output_type": "execute_result"
    }
   ],
   "source": [
    "len(cards)"
   ]
  },
  {
   "cell_type": "code",
   "execution_count": null,
   "metadata": {},
   "outputs": [],
   "source": [
    "#Y3v8qd"
   ]
  },
  {
   "cell_type": "code",
   "execution_count": 52,
   "metadata": {},
   "outputs": [],
   "source": [
    "news_bodies = driver.find_elements_by_xpath('//div[@class=\"Y3v8qd\"]')"
   ]
  },
  {
   "cell_type": "code",
   "execution_count": 53,
   "metadata": {},
   "outputs": [],
   "source": [
    "news_body = news_bodies[0]"
   ]
  },
  {
   "cell_type": "code",
   "execution_count": 54,
   "metadata": {},
   "outputs": [
    {
     "data": {
      "text/plain": [
       "'After two weeks of letting negotiations over a Covid relief package linger in Congress, Joe Biden hit the gas on Wednesday. The president ...'"
      ]
     },
     "execution_count": 54,
     "metadata": {},
     "output_type": "execute_result"
    }
   ],
   "source": [
    "news_body.text"
   ]
  },
  {
   "cell_type": "code",
   "execution_count": null,
   "metadata": {},
   "outputs": [],
   "source": [
    "#nChh6e DyOREb"
   ]
  },
  {
   "cell_type": "code",
   "execution_count": 55,
   "metadata": {},
   "outputs": [],
   "source": [
    "news = driver.find_elements_by_xpath('//div[@class=\"Y3v8qd\"]')"
   ]
  },
  {
   "cell_type": "code",
   "execution_count": 56,
   "metadata": {},
   "outputs": [],
   "source": [
    "new = news[0]"
   ]
  },
  {
   "cell_type": "code",
   "execution_count": 58,
   "metadata": {},
   "outputs": [
    {
     "name": "stdout",
     "output_type": "stream",
     "text": [
      "<selenium.webdriver.remote.webelement.WebElement (session=\"0dc29bc86bbc0ca23fa8ce96db92db83\", element=\"8eb27e08-dba8-42ed-b24b-f6861d173a21\")>\n"
     ]
    }
   ],
   "source": [
    "print(new)"
   ]
  },
  {
   "cell_type": "code",
   "execution_count": 64,
   "metadata": {},
   "outputs": [],
   "source": [
    "#headings = driver.find_elements_by_xpath('//div[@role=\"heading\"]')\n",
    "headings = driver.find_elements_by_xpath('//div[@class=\"JheGif nDgy9d\"]')"
   ]
  },
  {
   "cell_type": "code",
   "execution_count": 65,
   "metadata": {},
   "outputs": [],
   "source": [
    "heading = headings[0]"
   ]
  },
  {
   "cell_type": "code",
   "execution_count": 66,
   "metadata": {},
   "outputs": [
    {
     "data": {
      "text/plain": [
       "'Biden plunges fully into Covid relief talks'"
      ]
     },
     "execution_count": 66,
     "metadata": {},
     "output_type": "execute_result"
    }
   ],
   "source": [
    "heading.text"
   ]
  },
  {
   "cell_type": "code",
   "execution_count": 76,
   "metadata": {},
   "outputs": [],
   "source": [
    "links = driver.find_elements_by_xpath('//div[@class=\"dbsr\"]/a')"
   ]
  },
  {
   "cell_type": "code",
   "execution_count": 77,
   "metadata": {},
   "outputs": [],
   "source": [
    "link = links[0].get_attribute(\"href\")"
   ]
  },
  {
   "cell_type": "code",
   "execution_count": 78,
   "metadata": {},
   "outputs": [
    {
     "name": "stdout",
     "output_type": "stream",
     "text": [
      "https://www.politico.com/news/2021/02/03/biden-covid-relief-465758\n"
     ]
    }
   ],
   "source": [
    "print(link)"
   ]
  },
  {
   "cell_type": "code",
   "execution_count": 82,
   "metadata": {},
   "outputs": [],
   "source": [
    "heading = [i.text for i in headings]\n",
    "description = [i.text for i in news_bodies]\n",
    "link = [i.get_attribute(\"href\") for i in links]"
   ]
  },
  {
   "cell_type": "code",
   "execution_count": 85,
   "metadata": {},
   "outputs": [
    {
     "name": "stdout",
     "output_type": "stream",
     "text": [
      "['Biden plunges fully into Covid relief talks', 'Federal government opening first mass Covid vaccination sites in California', 'COVAX announces plan to distribute more than 330 million Covid-19 vaccine doses to developing nations', \"Cutting, bribing, stealing: Some people are getting COVID-19 vaccines before it's their turn\", 'Covid Vaccination Sites Opening in Binghamton and Endicott', \"Governor Cuomo announces new 'pop-up' vaccination sites in ...\", 'Latest Update of COVID-19 Cases in Broome County for Feb, 3rd', 'Biden Forges Ahead On Relief Bill Without GOP, But Signals Checks Could Be Targeted', 'Senate Democrats begin the budget reconciliation process for Covid-19 relief', 'From Covid Relief to Big Government', 'California schools can start reopening before all teachers get COVID-19 vaccine, Newsom says', 'Schools can reopen before all teachers get COVID vaccine', 'Vaccination sites opening in hard-hit California communities to tackle COVID disparities', 'Study finds COVID-19 vaccine may reduce virus transmission', 'Switzerland Declines To Approve AstraZeneca COVID-19 Vaccine - Financial Times', \"Covid: New Oxford vaccine 'ready by the autumn' to tackle mutations\", 'CDC director says schools can safely reopen without vaccinating teachers', \"Teachers have lost colleagues to Covid-19 and worry about being next. But, they say, no one's listening\", 'CDC: Schools can safely reopen without teacher COVID-19 vaccinations', 'COVID-19 rarely spreads through surfaces. So why are we still deep cleaning?', 'Covid-19: Five days that shaped the outbreak', 'How effective is a single vaccine dose against Covid-19?', 'Covid-19 Vaccine Rollout: State by State', \"Wednesday's COVID-19 report: More cases, fewer deaths, a lot more shots in the arm\", 'Latest Data on COVID-19 Vaccinations Race/Ethnicity', 'WHO: The Moderna COVID-19 (mRNA-1273) vaccine: what you need to know', 'What You Should Know About A COVID-19 Vaccine', \"A more contagious coronavirus strain has been found in 8 states and 33 countries. Here's what we know.\", 'Interview flap shows challenges as Harris settles in as VP', \"Osterholm on COVID variants: We need to understand what's coming\", \"'A question of choices.' Pfizer vaccine leader on confronting new coronavirus variants\", 'Covid-19: The World has Changed. So has the Playbook for the Olympics.', 'U.K. to test mixing COVID-19 vaccines in world-first trial']\n"
     ]
    },
    {
     "data": {
      "text/plain": [
       "33"
      ]
     },
     "execution_count": 85,
     "metadata": {},
     "output_type": "execute_result"
    }
   ],
   "source": [
    "print(heading)\n",
    "len(heading)"
   ]
  },
  {
   "cell_type": "code",
   "execution_count": 86,
   "metadata": {},
   "outputs": [
    {
     "name": "stdout",
     "output_type": "stream",
     "text": [
      "['After two weeks of letting negotiations over a Covid relief package linger in Congress, Joe Biden hit the gas on Wednesday. The president ...', \"The federal government plans to open its first Covid-19 vaccination sites in California as part of the Biden administration's push to ramp up the ...\", 'The COVAX initiative for equitable global access to Covid-19 vaccines has announced its plan to distribute more than 330 million doses to ...', 'More than a month since the U.S. began administering COVID-19 vaccines, people who were not supposed to be first in line have received ...', 'Two small Covid-19 vaccination sites are being added to a pair of large-scale operations in Broome County. One of the \"pop-up\" facilities went ...', 'BROOME COUNTY (WBNG) -- Earlier Wednesday, Governor Andrew Cuomo announced two new vaccination sites coming to Broome County.', 'Landlord Arrested for Unlawful Eviction in Town of Chenango. Four Car Collision On Upper Front Street. Johnson City Village Board Raises ...', \"The president told House Democrats he won't back down from providing $1400 direct payments in the COVID-19 aid package, but suggested ...\", 'In a 50-49 party-line vote on Tuesday, Senate Democrats took a key step in setting up a contingency plan for Covid-19 relief, voting to begin ...', 'Biden wants to dole out checks and create new programs, not find a compromise.', 'Gov. Gavin Newsom said he believes schools can begin to reopen even if all teachers are not yet vaccinated against COVID-19, provided that ...', 'Gov. Gavin Newsom said he believes schools can begin to reopen even if all teachers are not yet vaccinated against COVID-19, provided that ...', 'New vaccination centers are due to open this month in the heart of two California communities especially hard hit by the coronavirus, as state ...', \"AstraZeneca's COVID-19 vaccine shows a hint that it may reduce transmission of the virus and offers strong protection for three months on just ...\", 'Switzerland, the only country in continental Europe, has declined to approve the Oxford and AstraZeneca Plc (NASDAQ: AZN) COVID-19 ...', 'An improved jab that will be more effective against variants can be made quickly, says Oxford-AstraZeneca.', 'Teachers do not need to get vaccinated against Covid-19 before schools can safely reopen, the head of the Centers for Disease Control and ...', \"Teachers around the country who spoke to CNN reported being at their wits' end: constantly being asked to do more with less while feeling like ...\", 'CDC: Schools can safely reopen without teacher COVID-19 vaccinations.', \"The coronavirus behind the pandemic can linger on doorknobs and other surfaces, but these aren't a major source of infection.\", 'Before Wuhan was locked down in January 2020 officials said the outbreak was under control - but the virus had spread inside and outside the ...', \"Pretend it didn't happen – expert advice on how to behave after receiving a single dose of any of the Covid-19 vaccines.\", 'The Centers for Disease Control and Prevention said on Wednesday about 27.2 million people have received at least one dose of a Covid-19 vaccine, including ...', 'MADISON, Wis. (WBAY) – The average number of new coronavirus cases in Wisconsin is at a 4-month low. Average daily deaths are at a ...', 'KFF is collecting and analyzing data on COVID-19 vaccinations by race/ethnicity to gain increased insight who is receiving the vaccine and ...', 'The WHO Strategic Advisory Group of Experts (SAGE) on Immunization has issued Interim recommendations for use of the Moderna ...', 'The COVID-19 vaccine developed by AstraZeneca and the University of Oxford may be the first such vaccine that preliminary data shows could ...', \"A new strain of the coronavirus, first identified in the U.K., has now been reported in Connecticut, Pennsylvania and Texas. Here's what to know.\", 'WASHINGTON (AP) — Vice President Kamala Harris has spent her first two weeks in office working with the president on coronavirus relief, ...', \"Coronavirus cases are falling and vaccination numbers are rising. That's good news, right? Yes, but COVID-19 strains that are believed to be ...\", \"Science 's COVID-19 reporting is supported by the Heising-Simons Foundation. SIGN UP FOR OUR DAILY NEWSLETTER. Get more great ...\", 'San Francisco will sue its own school district to force it to reopen to students. A judge ordered inmates in Oregon prisons to be vaccinated.', 'The United Kingdom on Thursday launched a new clinical study to test the effects of mixing COVID-19 vaccines. Why it matters: Per a statement ...']\n"
     ]
    },
    {
     "data": {
      "text/plain": [
       "33"
      ]
     },
     "execution_count": 86,
     "metadata": {},
     "output_type": "execute_result"
    }
   ],
   "source": [
    "print(description)\n",
    "len(description)"
   ]
  },
  {
   "cell_type": "code",
   "execution_count": 87,
   "metadata": {},
   "outputs": [
    {
     "name": "stdout",
     "output_type": "stream",
     "text": [
      "['https://www.politico.com/news/2021/02/03/biden-covid-relief-465758', 'https://www.nbcnews.com/politics/white-house/federal-government-opening-first-mass-covid-19-vaccination-sites-california-n1256611', 'https://www.cnn.com/2021/02/04/world/covax-vaccine-plan-intl-hnk/index.html', 'https://www.usatoday.com/story/news/health/2021/02/03/covid-vaccine-some-people-cutting-bribing-before-their-turn/4308915001/', 'https://wnbf.com/covid-vaccination-sites-opening-in-binghamton-and-endicott/', 'https://wbng.com/2021/02/03/cuomo-announces-new-pop-up-vaccination-sites-in-broome-county/', 'https://www.wicz.com/story/43286137/latest-update-of-covid19-cases-in-broome-county-for-feb-3rd', 'https://www.npr.org/2021/02/03/963622911/biden-forges-ahead-on-relief-bill-without-gop-but-signals-checks-could-be-target', 'https://www.vox.com/2021/2/3/22263177/senate-democrats-covid-19-relief-budget-reconciliation', 'https://www.wsj.com/articles/from-covid-relief-to-big-government-11612392590', 'https://ktla.com/news/california/california-schools-can-start-reopening-before-all-teachers-get-covid-19-vaccine-newsom-says/', 'https://www.latimes.com/california/story/2021-02-03/schools-can-reopen-before-all-teachers-get-covid-vaccine', 'https://www.reuters.com/article/us-health-coronavirus-california-idUSKBN2A402M', 'https://apnews.com/article/astrazeneca-covid-19-vaccine-study-c746e10e44a1e609b3575dddf019720e', 'https://finance.yahoo.com/news/switzerland-declines-approve-astrazeneca-covid-163250138.html', 'https://www.bbc.com/news/health-55917793', 'https://www.cnbc.com/2021/02/03/cdc-director-says-schools-can-safely-reopen-without-vaccinating-teachers.html', 'https://www.cnn.com/2021/02/03/us/teachers-dying-covid-trnd/index.html', 'https://fox8.com/news/cdc-schools-can-safely-reopen-without-teacher-covid-19-vaccinations/', 'https://www.nature.com/articles/d41586-021-00251-4', 'https://www.bbc.co.uk/news/world-55756452', 'https://www.bbc.com/future/article/20210114-covid-19-how-effective-is-a-single-vaccine-dose', 'https://www.nytimes.com/interactive/2020/us/covid-19-vaccine-doses.html', 'https://www.wsaw.com/2021/02/03/wednesdays-covid-19-report-more-cases-fewer-deaths-a-lot-more-shots-in-the-arm/', 'https://www.kff.org/coronavirus-covid-19/issue-brief/latest-data-covid-19-vaccinations-cases-deaths-race-ethnicity/', 'https://www.who.int/news-room/feature-stories/detail/the-moderna-covid-19-mrna-1273-vaccine-what-you-need-to-know', 'https://www.aarp.org/health/conditions-treatments/info-2020/coronavirus-vaccine-research.html', 'https://www.usatoday.com/story/news/health/2021/01/02/new-covid-strain-b-117-explained/4112125001/', 'https://apnews.com/article/joe-biden-health-coronavirus-pandemic-west-virginia-united-nations-363b5098fc812a67a3e5a9efadb7cb78', 'https://www.mprnews.org/story/2021/01/29/osterholm-on-covid-variants-we-need-to-understand-whats-coming', 'https://www.sciencemag.org/news/2021/02/question-choices-pfizer-vaccine-leader-confronting-new-coronavirus-variants', 'https://www.nytimes.com/live/2021/02/03/world/covid-19-coronavirus', 'https://www.axios.com/uk-tests-mixing-covid-19-vaccines-study-e1b3f89f-a54a-41cb-a104-9f9913cdc727.html']\n"
     ]
    },
    {
     "data": {
      "text/plain": [
       "33"
      ]
     },
     "execution_count": 87,
     "metadata": {},
     "output_type": "execute_result"
    }
   ],
   "source": [
    "print(link)\n",
    "len(link)"
   ]
  },
  {
   "cell_type": "code",
   "execution_count": 89,
   "metadata": {},
   "outputs": [],
   "source": [
    "news_list = pd.DataFrame(\n",
    "    {'Heading': heading,\n",
    "     'Description': description,\n",
    "     'Link': link\n",
    "    })"
   ]
  },
  {
   "cell_type": "code",
   "execution_count": 90,
   "metadata": {},
   "outputs": [
    {
     "data": {
      "text/html": [
       "<div>\n",
       "<style scoped>\n",
       "    .dataframe tbody tr th:only-of-type {\n",
       "        vertical-align: middle;\n",
       "    }\n",
       "\n",
       "    .dataframe tbody tr th {\n",
       "        vertical-align: top;\n",
       "    }\n",
       "\n",
       "    .dataframe thead th {\n",
       "        text-align: right;\n",
       "    }\n",
       "</style>\n",
       "<table border=\"1\" class=\"dataframe\">\n",
       "  <thead>\n",
       "    <tr style=\"text-align: right;\">\n",
       "      <th></th>\n",
       "      <th>Heading</th>\n",
       "      <th>Description</th>\n",
       "      <th>Link</th>\n",
       "    </tr>\n",
       "  </thead>\n",
       "  <tbody>\n",
       "    <tr>\n",
       "      <td>0</td>\n",
       "      <td>Biden plunges fully into Covid relief talks</td>\n",
       "      <td>After two weeks of letting negotiations over a...</td>\n",
       "      <td>https://www.politico.com/news/2021/02/03/biden...</td>\n",
       "    </tr>\n",
       "    <tr>\n",
       "      <td>1</td>\n",
       "      <td>Federal government opening first mass Covid va...</td>\n",
       "      <td>The federal government plans to open its first...</td>\n",
       "      <td>https://www.nbcnews.com/politics/white-house/f...</td>\n",
       "    </tr>\n",
       "    <tr>\n",
       "      <td>2</td>\n",
       "      <td>COVAX announces plan to distribute more than 3...</td>\n",
       "      <td>The COVAX initiative for equitable global acce...</td>\n",
       "      <td>https://www.cnn.com/2021/02/04/world/covax-vac...</td>\n",
       "    </tr>\n",
       "    <tr>\n",
       "      <td>3</td>\n",
       "      <td>Cutting, bribing, stealing: Some people are ge...</td>\n",
       "      <td>More than a month since the U.S. began adminis...</td>\n",
       "      <td>https://www.usatoday.com/story/news/health/202...</td>\n",
       "    </tr>\n",
       "    <tr>\n",
       "      <td>4</td>\n",
       "      <td>Covid Vaccination Sites Opening in Binghamton ...</td>\n",
       "      <td>Two small Covid-19 vaccination sites are being...</td>\n",
       "      <td>https://wnbf.com/covid-vaccination-sites-openi...</td>\n",
       "    </tr>\n",
       "    <tr>\n",
       "      <td>5</td>\n",
       "      <td>Governor Cuomo announces new 'pop-up' vaccinat...</td>\n",
       "      <td>BROOME COUNTY (WBNG) -- Earlier Wednesday, Gov...</td>\n",
       "      <td>https://wbng.com/2021/02/03/cuomo-announces-ne...</td>\n",
       "    </tr>\n",
       "    <tr>\n",
       "      <td>6</td>\n",
       "      <td>Latest Update of COVID-19 Cases in Broome Coun...</td>\n",
       "      <td>Landlord Arrested for Unlawful Eviction in Tow...</td>\n",
       "      <td>https://www.wicz.com/story/43286137/latest-upd...</td>\n",
       "    </tr>\n",
       "    <tr>\n",
       "      <td>7</td>\n",
       "      <td>Biden Forges Ahead On Relief Bill Without GOP,...</td>\n",
       "      <td>The president told House Democrats he won't ba...</td>\n",
       "      <td>https://www.npr.org/2021/02/03/963622911/biden...</td>\n",
       "    </tr>\n",
       "    <tr>\n",
       "      <td>8</td>\n",
       "      <td>Senate Democrats begin the budget reconciliati...</td>\n",
       "      <td>In a 50-49 party-line vote on Tuesday, Senate ...</td>\n",
       "      <td>https://www.vox.com/2021/2/3/22263177/senate-d...</td>\n",
       "    </tr>\n",
       "    <tr>\n",
       "      <td>9</td>\n",
       "      <td>From Covid Relief to Big Government</td>\n",
       "      <td>Biden wants to dole out checks and create new ...</td>\n",
       "      <td>https://www.wsj.com/articles/from-covid-relief...</td>\n",
       "    </tr>\n",
       "    <tr>\n",
       "      <td>10</td>\n",
       "      <td>California schools can start reopening before ...</td>\n",
       "      <td>Gov. Gavin Newsom said he believes schools can...</td>\n",
       "      <td>https://ktla.com/news/california/california-sc...</td>\n",
       "    </tr>\n",
       "    <tr>\n",
       "      <td>11</td>\n",
       "      <td>Schools can reopen before all teachers get COV...</td>\n",
       "      <td>Gov. Gavin Newsom said he believes schools can...</td>\n",
       "      <td>https://www.latimes.com/california/story/2021-...</td>\n",
       "    </tr>\n",
       "    <tr>\n",
       "      <td>12</td>\n",
       "      <td>Vaccination sites opening in hard-hit Californ...</td>\n",
       "      <td>New vaccination centers are due to open this m...</td>\n",
       "      <td>https://www.reuters.com/article/us-health-coro...</td>\n",
       "    </tr>\n",
       "    <tr>\n",
       "      <td>13</td>\n",
       "      <td>Study finds COVID-19 vaccine may reduce virus ...</td>\n",
       "      <td>AstraZeneca's COVID-19 vaccine shows a hint th...</td>\n",
       "      <td>https://apnews.com/article/astrazeneca-covid-1...</td>\n",
       "    </tr>\n",
       "    <tr>\n",
       "      <td>14</td>\n",
       "      <td>Switzerland Declines To Approve AstraZeneca CO...</td>\n",
       "      <td>Switzerland, the only country in continental E...</td>\n",
       "      <td>https://finance.yahoo.com/news/switzerland-dec...</td>\n",
       "    </tr>\n",
       "    <tr>\n",
       "      <td>15</td>\n",
       "      <td>Covid: New Oxford vaccine 'ready by the autumn...</td>\n",
       "      <td>An improved jab that will be more effective ag...</td>\n",
       "      <td>https://www.bbc.com/news/health-55917793</td>\n",
       "    </tr>\n",
       "    <tr>\n",
       "      <td>16</td>\n",
       "      <td>CDC director says schools can safely reopen wi...</td>\n",
       "      <td>Teachers do not need to get vaccinated against...</td>\n",
       "      <td>https://www.cnbc.com/2021/02/03/cdc-director-s...</td>\n",
       "    </tr>\n",
       "    <tr>\n",
       "      <td>17</td>\n",
       "      <td>Teachers have lost colleagues to Covid-19 and ...</td>\n",
       "      <td>Teachers around the country who spoke to CNN r...</td>\n",
       "      <td>https://www.cnn.com/2021/02/03/us/teachers-dyi...</td>\n",
       "    </tr>\n",
       "    <tr>\n",
       "      <td>18</td>\n",
       "      <td>CDC: Schools can safely reopen without teacher...</td>\n",
       "      <td>CDC: Schools can safely reopen without teacher...</td>\n",
       "      <td>https://fox8.com/news/cdc-schools-can-safely-r...</td>\n",
       "    </tr>\n",
       "    <tr>\n",
       "      <td>19</td>\n",
       "      <td>COVID-19 rarely spreads through surfaces. So w...</td>\n",
       "      <td>The coronavirus behind the pandemic can linger...</td>\n",
       "      <td>https://www.nature.com/articles/d41586-021-002...</td>\n",
       "    </tr>\n",
       "    <tr>\n",
       "      <td>20</td>\n",
       "      <td>Covid-19: Five days that shaped the outbreak</td>\n",
       "      <td>Before Wuhan was locked down in January 2020 o...</td>\n",
       "      <td>https://www.bbc.co.uk/news/world-55756452</td>\n",
       "    </tr>\n",
       "    <tr>\n",
       "      <td>21</td>\n",
       "      <td>How effective is a single vaccine dose against...</td>\n",
       "      <td>Pretend it didn't happen – expert advice on ho...</td>\n",
       "      <td>https://www.bbc.com/future/article/20210114-co...</td>\n",
       "    </tr>\n",
       "    <tr>\n",
       "      <td>22</td>\n",
       "      <td>Covid-19 Vaccine Rollout: State by State</td>\n",
       "      <td>The Centers for Disease Control and Prevention...</td>\n",
       "      <td>https://www.nytimes.com/interactive/2020/us/co...</td>\n",
       "    </tr>\n",
       "    <tr>\n",
       "      <td>23</td>\n",
       "      <td>Wednesday's COVID-19 report: More cases, fewer...</td>\n",
       "      <td>MADISON, Wis. (WBAY) – The average number of n...</td>\n",
       "      <td>https://www.wsaw.com/2021/02/03/wednesdays-cov...</td>\n",
       "    </tr>\n",
       "    <tr>\n",
       "      <td>24</td>\n",
       "      <td>Latest Data on COVID-19 Vaccinations Race/Ethn...</td>\n",
       "      <td>KFF is collecting and analyzing data on COVID-...</td>\n",
       "      <td>https://www.kff.org/coronavirus-covid-19/issue...</td>\n",
       "    </tr>\n",
       "    <tr>\n",
       "      <td>25</td>\n",
       "      <td>WHO: The Moderna COVID-19 (mRNA-1273) vaccine:...</td>\n",
       "      <td>The WHO Strategic Advisory Group of Experts (S...</td>\n",
       "      <td>https://www.who.int/news-room/feature-stories/...</td>\n",
       "    </tr>\n",
       "    <tr>\n",
       "      <td>26</td>\n",
       "      <td>What You Should Know About A COVID-19 Vaccine</td>\n",
       "      <td>The COVID-19 vaccine developed by AstraZeneca ...</td>\n",
       "      <td>https://www.aarp.org/health/conditions-treatme...</td>\n",
       "    </tr>\n",
       "    <tr>\n",
       "      <td>27</td>\n",
       "      <td>A more contagious coronavirus strain has been ...</td>\n",
       "      <td>A new strain of the coronavirus, first identif...</td>\n",
       "      <td>https://www.usatoday.com/story/news/health/202...</td>\n",
       "    </tr>\n",
       "    <tr>\n",
       "      <td>28</td>\n",
       "      <td>Interview flap shows challenges as Harris sett...</td>\n",
       "      <td>WASHINGTON (AP) — Vice President Kamala Harris...</td>\n",
       "      <td>https://apnews.com/article/joe-biden-health-co...</td>\n",
       "    </tr>\n",
       "    <tr>\n",
       "      <td>29</td>\n",
       "      <td>Osterholm on COVID variants: We need to unders...</td>\n",
       "      <td>Coronavirus cases are falling and vaccination ...</td>\n",
       "      <td>https://www.mprnews.org/story/2021/01/29/oster...</td>\n",
       "    </tr>\n",
       "    <tr>\n",
       "      <td>30</td>\n",
       "      <td>'A question of choices.' Pfizer vaccine leader...</td>\n",
       "      <td>Science 's COVID-19 reporting is supported by ...</td>\n",
       "      <td>https://www.sciencemag.org/news/2021/02/questi...</td>\n",
       "    </tr>\n",
       "    <tr>\n",
       "      <td>31</td>\n",
       "      <td>Covid-19: The World has Changed. So has the Pl...</td>\n",
       "      <td>San Francisco will sue its own school district...</td>\n",
       "      <td>https://www.nytimes.com/live/2021/02/03/world/...</td>\n",
       "    </tr>\n",
       "    <tr>\n",
       "      <td>32</td>\n",
       "      <td>U.K. to test mixing COVID-19 vaccines in world...</td>\n",
       "      <td>The United Kingdom on Thursday launched a new ...</td>\n",
       "      <td>https://www.axios.com/uk-tests-mixing-covid-19...</td>\n",
       "    </tr>\n",
       "  </tbody>\n",
       "</table>\n",
       "</div>"
      ],
      "text/plain": [
       "                                              Heading  \\\n",
       "0         Biden plunges fully into Covid relief talks   \n",
       "1   Federal government opening first mass Covid va...   \n",
       "2   COVAX announces plan to distribute more than 3...   \n",
       "3   Cutting, bribing, stealing: Some people are ge...   \n",
       "4   Covid Vaccination Sites Opening in Binghamton ...   \n",
       "5   Governor Cuomo announces new 'pop-up' vaccinat...   \n",
       "6   Latest Update of COVID-19 Cases in Broome Coun...   \n",
       "7   Biden Forges Ahead On Relief Bill Without GOP,...   \n",
       "8   Senate Democrats begin the budget reconciliati...   \n",
       "9                 From Covid Relief to Big Government   \n",
       "10  California schools can start reopening before ...   \n",
       "11  Schools can reopen before all teachers get COV...   \n",
       "12  Vaccination sites opening in hard-hit Californ...   \n",
       "13  Study finds COVID-19 vaccine may reduce virus ...   \n",
       "14  Switzerland Declines To Approve AstraZeneca CO...   \n",
       "15  Covid: New Oxford vaccine 'ready by the autumn...   \n",
       "16  CDC director says schools can safely reopen wi...   \n",
       "17  Teachers have lost colleagues to Covid-19 and ...   \n",
       "18  CDC: Schools can safely reopen without teacher...   \n",
       "19  COVID-19 rarely spreads through surfaces. So w...   \n",
       "20       Covid-19: Five days that shaped the outbreak   \n",
       "21  How effective is a single vaccine dose against...   \n",
       "22           Covid-19 Vaccine Rollout: State by State   \n",
       "23  Wednesday's COVID-19 report: More cases, fewer...   \n",
       "24  Latest Data on COVID-19 Vaccinations Race/Ethn...   \n",
       "25  WHO: The Moderna COVID-19 (mRNA-1273) vaccine:...   \n",
       "26      What You Should Know About A COVID-19 Vaccine   \n",
       "27  A more contagious coronavirus strain has been ...   \n",
       "28  Interview flap shows challenges as Harris sett...   \n",
       "29  Osterholm on COVID variants: We need to unders...   \n",
       "30  'A question of choices.' Pfizer vaccine leader...   \n",
       "31  Covid-19: The World has Changed. So has the Pl...   \n",
       "32  U.K. to test mixing COVID-19 vaccines in world...   \n",
       "\n",
       "                                          Description  \\\n",
       "0   After two weeks of letting negotiations over a...   \n",
       "1   The federal government plans to open its first...   \n",
       "2   The COVAX initiative for equitable global acce...   \n",
       "3   More than a month since the U.S. began adminis...   \n",
       "4   Two small Covid-19 vaccination sites are being...   \n",
       "5   BROOME COUNTY (WBNG) -- Earlier Wednesday, Gov...   \n",
       "6   Landlord Arrested for Unlawful Eviction in Tow...   \n",
       "7   The president told House Democrats he won't ba...   \n",
       "8   In a 50-49 party-line vote on Tuesday, Senate ...   \n",
       "9   Biden wants to dole out checks and create new ...   \n",
       "10  Gov. Gavin Newsom said he believes schools can...   \n",
       "11  Gov. Gavin Newsom said he believes schools can...   \n",
       "12  New vaccination centers are due to open this m...   \n",
       "13  AstraZeneca's COVID-19 vaccine shows a hint th...   \n",
       "14  Switzerland, the only country in continental E...   \n",
       "15  An improved jab that will be more effective ag...   \n",
       "16  Teachers do not need to get vaccinated against...   \n",
       "17  Teachers around the country who spoke to CNN r...   \n",
       "18  CDC: Schools can safely reopen without teacher...   \n",
       "19  The coronavirus behind the pandemic can linger...   \n",
       "20  Before Wuhan was locked down in January 2020 o...   \n",
       "21  Pretend it didn't happen – expert advice on ho...   \n",
       "22  The Centers for Disease Control and Prevention...   \n",
       "23  MADISON, Wis. (WBAY) – The average number of n...   \n",
       "24  KFF is collecting and analyzing data on COVID-...   \n",
       "25  The WHO Strategic Advisory Group of Experts (S...   \n",
       "26  The COVID-19 vaccine developed by AstraZeneca ...   \n",
       "27  A new strain of the coronavirus, first identif...   \n",
       "28  WASHINGTON (AP) — Vice President Kamala Harris...   \n",
       "29  Coronavirus cases are falling and vaccination ...   \n",
       "30  Science 's COVID-19 reporting is supported by ...   \n",
       "31  San Francisco will sue its own school district...   \n",
       "32  The United Kingdom on Thursday launched a new ...   \n",
       "\n",
       "                                                 Link  \n",
       "0   https://www.politico.com/news/2021/02/03/biden...  \n",
       "1   https://www.nbcnews.com/politics/white-house/f...  \n",
       "2   https://www.cnn.com/2021/02/04/world/covax-vac...  \n",
       "3   https://www.usatoday.com/story/news/health/202...  \n",
       "4   https://wnbf.com/covid-vaccination-sites-openi...  \n",
       "5   https://wbng.com/2021/02/03/cuomo-announces-ne...  \n",
       "6   https://www.wicz.com/story/43286137/latest-upd...  \n",
       "7   https://www.npr.org/2021/02/03/963622911/biden...  \n",
       "8   https://www.vox.com/2021/2/3/22263177/senate-d...  \n",
       "9   https://www.wsj.com/articles/from-covid-relief...  \n",
       "10  https://ktla.com/news/california/california-sc...  \n",
       "11  https://www.latimes.com/california/story/2021-...  \n",
       "12  https://www.reuters.com/article/us-health-coro...  \n",
       "13  https://apnews.com/article/astrazeneca-covid-1...  \n",
       "14  https://finance.yahoo.com/news/switzerland-dec...  \n",
       "15           https://www.bbc.com/news/health-55917793  \n",
       "16  https://www.cnbc.com/2021/02/03/cdc-director-s...  \n",
       "17  https://www.cnn.com/2021/02/03/us/teachers-dyi...  \n",
       "18  https://fox8.com/news/cdc-schools-can-safely-r...  \n",
       "19  https://www.nature.com/articles/d41586-021-002...  \n",
       "20          https://www.bbc.co.uk/news/world-55756452  \n",
       "21  https://www.bbc.com/future/article/20210114-co...  \n",
       "22  https://www.nytimes.com/interactive/2020/us/co...  \n",
       "23  https://www.wsaw.com/2021/02/03/wednesdays-cov...  \n",
       "24  https://www.kff.org/coronavirus-covid-19/issue...  \n",
       "25  https://www.who.int/news-room/feature-stories/...  \n",
       "26  https://www.aarp.org/health/conditions-treatme...  \n",
       "27  https://www.usatoday.com/story/news/health/202...  \n",
       "28  https://apnews.com/article/joe-biden-health-co...  \n",
       "29  https://www.mprnews.org/story/2021/01/29/oster...  \n",
       "30  https://www.sciencemag.org/news/2021/02/questi...  \n",
       "31  https://www.nytimes.com/live/2021/02/03/world/...  \n",
       "32  https://www.axios.com/uk-tests-mixing-covid-19...  "
      ]
     },
     "execution_count": 90,
     "metadata": {},
     "output_type": "execute_result"
    }
   ],
   "source": [
    "news_list"
   ]
  },
  {
   "cell_type": "code",
   "execution_count": 91,
   "metadata": {},
   "outputs": [],
   "source": [
    "#Converting to html\n",
    "html = news_list.to_html() \n",
    "  \n",
    "# write html to file \n",
    "text_file = open(\"index.html\", \"w\") \n",
    "text_file.write(html) \n",
    "text_file.close() "
   ]
  },
  {
   "cell_type": "code",
   "execution_count": null,
   "metadata": {},
   "outputs": [],
   "source": []
  }
 ],
 "metadata": {
  "kernelspec": {
   "display_name": "Python 3",
   "language": "python",
   "name": "python3"
  },
  "language_info": {
   "codemirror_mode": {
    "name": "ipython",
    "version": 3
   },
   "file_extension": ".py",
   "mimetype": "text/x-python",
   "name": "python",
   "nbconvert_exporter": "python",
   "pygments_lexer": "ipython3",
   "version": "3.7.4"
  }
 },
 "nbformat": 4,
 "nbformat_minor": 2
}
